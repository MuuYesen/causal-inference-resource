{
 "cells": [
  {
   "cell_type": "markdown",
   "id": "188bba20",
   "metadata": {},
   "source": [
    "### causal-learn"
   ]
  },
  {
   "cell_type": "code",
   "execution_count": 1,
   "id": "f7c92ca3",
   "metadata": {
    "collapsed": true
   },
   "outputs": [
    {
     "data": {
      "text/plain": "array([[  1.76405235,   0.55596268,  -1.53292105, ...,  37.12065837,\n          2.19728166,   1.71483045],\n       [  0.40015721,   0.89247389,  -1.71197016, ...,  25.11396725,\n          2.26405252,   0.69541575],\n       [  0.97873798,  -0.42231482,   0.04613506, ...,  -1.2606711 ,\n          0.40624366,  -0.37687517],\n       ...,\n       [  0.0941923 ,   0.15843385,  -0.19240421, ...,   1.57758945,\n         -0.32128275,  -1.02344089],\n       [ -1.14761094,  -1.14190142,  -1.21251574, ..., -29.52258499,\n         -3.3421349 ,  -8.57431905],\n       [ -0.35811408,  -1.31097037,  -0.08059852, ..., -19.45826394,\n          1.03476209,   0.62413589]])"
     },
     "execution_count": 1,
     "metadata": {},
     "output_type": "execute_result"
    }
   ],
   "source": [
    "import numpy as np\n",
    "\n",
    "def gen_coef():\n",
    "    return np.random.uniform(1, 3)\n",
    "\n",
    "np.random.seed(0)\n",
    "sample_size, loc, scale = 1000, 0.0, 1.0\n",
    "L1 = np.random.normal(loc=loc, scale=scale, size=sample_size)\n",
    "L2 = np.random.normal(loc=loc, scale=scale, size=sample_size)\n",
    "L3 = np.random.normal(loc=loc, scale=scale, size=sample_size)\n",
    "X1 = gen_coef() * L1 + gen_coef() * L2 + np.random.normal(loc=loc, scale=scale, size=sample_size)\n",
    "X2 = gen_coef() * X1 + np.random.normal(loc=loc, scale=scale, size=sample_size)\n",
    "X3 = gen_coef() * X2 + np.random.normal(loc=loc, scale=scale, size=sample_size)\n",
    "X4 = gen_coef() * X1 + gen_coef() * L3 + np.random.normal(loc=loc, scale=scale, size=sample_size)\n",
    "X5 = gen_coef() * X3 + gen_coef() * L3 + np.random.normal(loc=loc, scale=scale, size=sample_size)\n",
    "X6 = gen_coef() * L1 + np.random.normal(loc=loc, scale=scale, size=sample_size)\n",
    "X7 = gen_coef() * L2 + gen_coef() * L3 + gen_coef() * X6 + np.random.normal(loc=loc, scale=scale,\n",
    "                                                                            size=sample_size)\n",
    "data = np.array([L1,L2,L3,X1, X2, X3, X4, X5, X6, X7]).T\n",
    "data"
   ]
  },
  {
   "cell_type": "markdown",
   "id": "c95749df",
   "metadata": {},
   "source": [
    "### chaoxi"
   ]
  },
  {
   "cell_type": "code",
   "execution_count": 2,
   "id": "a5f250f6",
   "metadata": {},
   "outputs": [],
   "source": [
    "import numpy as np\n",
    "import pandas as pd\n",
    "\n",
    "N = 100000\n",
    "loc, scale = 0, 1\n",
    "\n",
    "IQ = np.random.normal(loc=loc, scale=scale, size=sample_size)\n",
    "edu = 0.5 * IQ + np.random.normal(loc=loc, scale=scale+1, size=sample_size)\n",
    "earnings = 0.3 * IQ + 0.4 * edu + np.random.normal(loc=loc, scale=scale+2, size=sample_size)\n",
    "art = 1.2 * edu + 0.6 * earnings + np.random.normal(loc=loc, scale=scale+3, size=sample_size)\n",
    "\n",
    "data = pd.DataFrame({'IQ':IQ, 'edu':edu, 'earnings':earnings, 'art':art})"
   ]
  },
  {
   "cell_type": "code",
   "execution_count": 3,
   "id": "c40dc0a5",
   "metadata": {
    "collapsed": true
   },
   "outputs": [
    {
     "name": "stdout",
     "output_type": "stream",
     "text": [
      "                            OLS Regression Results                            \n",
      "==============================================================================\n",
      "Dep. Variable:               earnings   R-squared:                       0.089\n",
      "Model:                            OLS   Adj. R-squared:                  0.087\n",
      "Method:                 Least Squares   F-statistic:                     48.83\n",
      "Date:                Sun, 04 Sep 2022   Prob (F-statistic):           5.87e-21\n",
      "Time:                        17:14:07   Log-Likelihood:                -2538.2\n",
      "No. Observations:                1000   AIC:                             5082.\n",
      "Df Residuals:                     997   BIC:                             5097.\n",
      "Df Model:                           2                                         \n",
      "Covariance Type:            nonrobust                                         \n",
      "==============================================================================\n",
      "                 coef    std err          t      P>|t|      [0.025      0.975]\n",
      "------------------------------------------------------------------------------\n",
      "Intercept     -0.0946      0.097     -0.973      0.331      -0.286       0.096\n",
      "IQ             0.2393      0.100      2.388      0.017       0.043       0.436\n",
      "edu            0.4171      0.048      8.654      0.000       0.323       0.512\n",
      "==============================================================================\n",
      "Omnibus:                        6.242   Durbin-Watson:                   2.105\n",
      "Prob(Omnibus):                  0.044   Jarque-Bera (JB):                6.193\n",
      "Skew:                           0.166   Prob(JB):                       0.0452\n",
      "Kurtosis:                       3.196   Cond. No.                         2.24\n",
      "==============================================================================\n",
      "\n",
      "Notes:\n",
      "[1] Standard Errors assume that the covariance matrix of the errors is correctly specified.\n"
     ]
    }
   ],
   "source": [
    "import statsmodels.formula.api as smf\n",
    "\n",
    "model = smf.ols(formula='earnings ~ IQ + edu', data=data)\n",
    "result = model.fit()\n",
    "print(result.summary())"
   ]
  },
  {
   "cell_type": "code",
   "execution_count": 4,
   "id": "dc5f7584",
   "metadata": {
    "collapsed": true
   },
   "outputs": [
    {
     "name": "stdout",
     "output_type": "stream",
     "text": [
      "                            GLS Regression Results                            \n",
      "==============================================================================\n",
      "Dep. Variable:               earnings   R-squared:                       0.089\n",
      "Model:                            GLS   Adj. R-squared:                  0.087\n",
      "Method:                 Least Squares   F-statistic:                     48.83\n",
      "Date:                Sun, 04 Sep 2022   Prob (F-statistic):           5.87e-21\n",
      "Time:                        17:14:07   Log-Likelihood:                -2538.2\n",
      "No. Observations:                1000   AIC:                             5082.\n",
      "Df Residuals:                     997   BIC:                             5097.\n",
      "Df Model:                           2                                         \n",
      "Covariance Type:            nonrobust                                         \n",
      "==============================================================================\n",
      "                 coef    std err          t      P>|t|      [0.025      0.975]\n",
      "------------------------------------------------------------------------------\n",
      "Intercept     -0.0946      0.097     -0.973      0.331      -0.286       0.096\n",
      "IQ             0.2393      0.100      2.388      0.017       0.043       0.436\n",
      "edu            0.4171      0.048      8.654      0.000       0.323       0.512\n",
      "==============================================================================\n",
      "Omnibus:                        6.242   Durbin-Watson:                   2.105\n",
      "Prob(Omnibus):                  0.044   Jarque-Bera (JB):                6.193\n",
      "Skew:                           0.166   Prob(JB):                       0.0452\n",
      "Kurtosis:                       3.196   Cond. No.                         2.24\n",
      "==============================================================================\n",
      "\n",
      "Notes:\n",
      "[1] Standard Errors assume that the covariance matrix of the errors is correctly specified.\n"
     ]
    }
   ],
   "source": [
    "import statsmodels.formula.api as smf\n",
    "\n",
    "model = smf.gls(formula='earnings ~ IQ + edu', data=data)\n",
    "result = model.fit()\n",
    "print(result.summary())"
   ]
  },
  {
   "cell_type": "code",
   "execution_count": 5,
   "id": "900170f4",
   "metadata": {
    "collapsed": true
   },
   "outputs": [
    {
     "name": "stdout",
     "output_type": "stream",
     "text": [
      "                            OLS Regression Results                            \n",
      "==============================================================================\n",
      "Dep. Variable:               earnings   R-squared:                       0.266\n",
      "Model:                            OLS   Adj. R-squared:                  0.263\n",
      "Method:                 Least Squares   F-statistic:                     120.1\n",
      "Date:                Sun, 04 Sep 2022   Prob (F-statistic):           2.14e-66\n",
      "Time:                        17:14:07   Log-Likelihood:                -2430.5\n",
      "No. Observations:                1000   AIC:                             4869.\n",
      "Df Residuals:                     996   BIC:                             4889.\n",
      "Df Model:                           3                                         \n",
      "Covariance Type:            nonrobust                                         \n",
      "==============================================================================\n",
      "                 coef    std err          t      P>|t|      [0.025      0.975]\n",
      "------------------------------------------------------------------------------\n",
      "Intercept     -0.0861      0.087     -0.985      0.325      -0.258       0.085\n",
      "IQ             0.1527      0.090      1.693      0.091      -0.024       0.330\n",
      "edu           -0.0313      0.052     -0.601      0.548      -0.134       0.071\n",
      "art            0.3096      0.020     15.470      0.000       0.270       0.349\n",
      "==============================================================================\n",
      "Omnibus:                        4.866   Durbin-Watson:                   2.071\n",
      "Prob(Omnibus):                  0.088   Jarque-Bera (JB):                5.845\n",
      "Skew:                           0.037   Prob(JB):                       0.0538\n",
      "Kurtosis:                       3.367   Cond. No.                         5.84\n",
      "==============================================================================\n",
      "\n",
      "Notes:\n",
      "[1] Standard Errors assume that the covariance matrix of the errors is correctly specified.\n"
     ]
    }
   ],
   "source": [
    "import statsmodels.formula.api as smf\n",
    "\n",
    "model = smf.ols(formula='earnings ~ IQ + edu + art', data=data)\n",
    "result = model.fit()\n",
    "print(result.summary())"
   ]
  },
  {
   "cell_type": "code",
   "execution_count": 6,
   "id": "eac13bce",
   "metadata": {
    "collapsed": true
   },
   "outputs": [
    {
     "name": "stdout",
     "output_type": "stream",
     "text": [
      "                            GLS Regression Results                            \n",
      "==============================================================================\n",
      "Dep. Variable:               earnings   R-squared:                       0.266\n",
      "Model:                            GLS   Adj. R-squared:                  0.263\n",
      "Method:                 Least Squares   F-statistic:                     120.1\n",
      "Date:                Sun, 04 Sep 2022   Prob (F-statistic):           2.14e-66\n",
      "Time:                        17:14:07   Log-Likelihood:                -2430.5\n",
      "No. Observations:                1000   AIC:                             4869.\n",
      "Df Residuals:                     996   BIC:                             4889.\n",
      "Df Model:                           3                                         \n",
      "Covariance Type:            nonrobust                                         \n",
      "==============================================================================\n",
      "                 coef    std err          t      P>|t|      [0.025      0.975]\n",
      "------------------------------------------------------------------------------\n",
      "Intercept     -0.0861      0.087     -0.985      0.325      -0.258       0.085\n",
      "IQ             0.1527      0.090      1.693      0.091      -0.024       0.330\n",
      "edu           -0.0313      0.052     -0.601      0.548      -0.134       0.071\n",
      "art            0.3096      0.020     15.470      0.000       0.270       0.349\n",
      "==============================================================================\n",
      "Omnibus:                        4.866   Durbin-Watson:                   2.071\n",
      "Prob(Omnibus):                  0.088   Jarque-Bera (JB):                5.845\n",
      "Skew:                           0.037   Prob(JB):                       0.0538\n",
      "Kurtosis:                       3.367   Cond. No.                         5.84\n",
      "==============================================================================\n",
      "\n",
      "Notes:\n",
      "[1] Standard Errors assume that the covariance matrix of the errors is correctly specified.\n"
     ]
    }
   ],
   "source": [
    "import statsmodels.formula.api as smf\n",
    "\n",
    "model = smf.gls(formula='earnings ~ IQ + edu + art', data=data)\n",
    "result = model.fit()\n",
    "print(result.summary())"
   ]
  },
  {
   "cell_type": "markdown",
   "id": "5f385543",
   "metadata": {},
   "source": [
    "gls 和 ols 的系数拟合是一样的，这可能是因为没有异方差的问题？但是现在每个特征的方差都不一样，结果还是之前的结论"
   ]
  },
  {
   "cell_type": "markdown",
   "id": "0211d204",
   "metadata": {},
   "source": [
    "当R和python的结果不一样时，应该选择哪个更合适？"
   ]
  },
  {
   "cell_type": "markdown",
   "id": "3cc24039",
   "metadata": {},
   "source": [
    "### xingming"
   ]
  },
  {
   "cell_type": "code",
   "execution_count": 7,
   "id": "d65a054b",
   "metadata": {},
   "outputs": [],
   "source": [
    "import numpy as np\n",
    "import pandas as pd\n",
    "\n",
    "N = 100000\n",
    "loc, scale = 0, 1\n",
    "\n",
    "C1 = np.random.normal(loc=loc, scale=scale, size=sample_size)\n",
    "C2 = C1 + np.random.normal(loc=loc, scale=scale, size=sample_size)\n",
    "C3 = C2 + np.random.normal(loc=loc, scale=scale, size=sample_size)\n",
    "C4 = C3 + np.random.normal(loc=loc, scale=scale, size=sample_size)\n",
    "C5 = C4 + np.random.normal(loc=loc, scale=scale, size=sample_size)\n",
    "C6 = C5 + np.random.normal(loc=loc, scale=scale, size=sample_size)\n",
    "X1 = np.random.normal(loc=loc, scale=scale, size=sample_size)\n",
    "X2 = np.random.normal(loc=loc, scale=scale, size=sample_size)\n",
    "B = C1 + C2 + C3 + C4 + C5 + C6\n",
    "A = B + C1 + C2 + C3 + C4 + C5 + C6 + X1 + X2\n",
    "\n",
    "X3 = np.random.normal(loc=loc, scale=scale, size=sample_size)\n",
    "X4 = np.random.normal(loc=loc, scale=scale, size=sample_size) + B \n",
    "E = B + X3 + X4\n",
    "\n",
    "X5 = C6 + np.random.normal(loc=loc, scale=scale, size=sample_size)\n",
    "X6 = np.random.normal(loc=loc, scale=scale, size=sample_size)\n",
    "F = B + X5 + X6\n",
    "\n",
    "data = pd.DataFrame({'C1':C1, 'C2':C2, 'C3':C3, 'C4':C4, 'C5':C5, 'C6':C6,\n",
    "                     'X1':X1, 'X2':X2, 'X3':X3, 'X4':X4, 'X5':X5, 'X6':X6,\n",
    "                     'A':A, 'B':B, 'E':E, 'F':F})"
   ]
  },
  {
   "cell_type": "markdown",
   "id": "bb26c87b",
   "metadata": {},
   "source": [
    "#### 对B进行回归"
   ]
  },
  {
   "cell_type": "code",
   "execution_count": 8,
   "id": "17534ba1",
   "metadata": {},
   "outputs": [
    {
     "name": "stdout",
     "output_type": "stream",
     "text": [
      "                            OLS Regression Results                            \n",
      "==============================================================================\n",
      "Dep. Variable:                      B   R-squared:                       1.000\n",
      "Model:                            OLS   Adj. R-squared:                  1.000\n",
      "Method:                 Least Squares   F-statistic:                 7.784e+32\n",
      "Date:                Sun, 04 Sep 2022   Prob (F-statistic):               0.00\n",
      "Time:                        17:14:07   Log-Likelihood:                 31677.\n",
      "No. Observations:                1000   AIC:                        -6.334e+04\n",
      "Df Residuals:                     993   BIC:                        -6.331e+04\n",
      "Df Model:                           6                                         \n",
      "Covariance Type:            nonrobust                                         \n",
      "==============================================================================\n",
      "                 coef    std err          t      P>|t|      [0.025      0.975]\n",
      "------------------------------------------------------------------------------\n",
      "Intercept  -1.832e-15   1.35e-16    -13.548      0.000    -2.1e-15   -1.57e-15\n",
      "C1             1.0000   1.95e-16   5.12e+15      0.000       1.000       1.000\n",
      "C2             1.0000   1.96e-16    5.1e+15      0.000       1.000       1.000\n",
      "C3             1.0000   1.95e-16   5.12e+15      0.000       1.000       1.000\n",
      "C4             1.0000   1.93e-16   5.18e+15      0.000       1.000       1.000\n",
      "C5             1.0000    1.9e-16   5.27e+15      0.000       1.000       1.000\n",
      "C6             1.0000   1.33e-16   7.49e+15      0.000       1.000       1.000\n",
      "==============================================================================\n",
      "Omnibus:                        1.791   Durbin-Watson:                   1.615\n",
      "Prob(Omnibus):                  0.408   Jarque-Bera (JB):                1.728\n",
      "Skew:                           0.039   Prob(JB):                        0.421\n",
      "Kurtosis:                       3.188   Cond. No.                         8.11\n",
      "==============================================================================\n",
      "\n",
      "Notes:\n",
      "[1] Standard Errors assume that the covariance matrix of the errors is correctly specified.\n"
     ]
    }
   ],
   "source": [
    "import statsmodels.formula.api as smf\n",
    "\n",
    "model = smf.ols(formula='B ~ C1 + C2 + C3 + C4 + C5 + C6', data=data) ### 直接拟合数据生成方程 （准！) 无多重共线性\n",
    "result = model.fit()\n",
    "print(result.summary())"
   ]
  },
  {
   "cell_type": "markdown",
   "id": "ec98ddb2",
   "metadata": {},
   "source": [
    "#### 对A进行回归"
   ]
  },
  {
   "cell_type": "code",
   "execution_count": 9,
   "id": "1792be59",
   "metadata": {},
   "outputs": [
    {
     "name": "stdout",
     "output_type": "stream",
     "text": [
      "                            OLS Regression Results                            \n",
      "==============================================================================\n",
      "Dep. Variable:                      A   R-squared:                       0.994\n",
      "Model:                            OLS   Adj. R-squared:                  0.994\n",
      "Method:                 Least Squares   F-statistic:                 2.782e+04\n",
      "Date:                Sun, 04 Sep 2022   Prob (F-statistic):               0.00\n",
      "Time:                        17:14:08   Log-Likelihood:                -1765.1\n",
      "No. Observations:                1000   AIC:                             3544.\n",
      "Df Residuals:                     993   BIC:                             3579.\n",
      "Df Model:                           6                                         \n",
      "Covariance Type:            nonrobust                                         \n",
      "==============================================================================\n",
      "                 coef    std err          t      P>|t|      [0.025      0.975]\n",
      "------------------------------------------------------------------------------\n",
      "Intercept      0.0571      0.045      1.263      0.207      -0.032       0.146\n",
      "B              1.7036      0.007    253.280      0.000       1.690       1.717\n",
      "C1             0.1371      0.061      2.263      0.024       0.018       0.256\n",
      "C2             0.4404      0.066      6.666      0.000       0.311       0.570\n",
      "C3             0.2247      0.065      3.432      0.001       0.096       0.353\n",
      "C4             0.3099      0.065      4.788      0.000       0.183       0.437\n",
      "C5             0.3578      0.064      5.599      0.000       0.232       0.483\n",
      "C6             0.2336      0.045      5.196      0.000       0.145       0.322\n",
      "==============================================================================\n",
      "Omnibus:                        2.599   Durbin-Watson:                   2.093\n",
      "Prob(Omnibus):                  0.273   Jarque-Bera (JB):                2.499\n",
      "Skew:                          -0.120   Prob(JB):                        0.287\n",
      "Kurtosis:                       3.049   Cond. No.                     1.34e+16\n",
      "==============================================================================\n",
      "\n",
      "Notes:\n",
      "[1] Standard Errors assume that the covariance matrix of the errors is correctly specified.\n",
      "[2] The smallest eigenvalue is 5.58e-28. This might indicate that there are\n",
      "strong multicollinearity problems or that the design matrix is singular.\n"
     ]
    }
   ],
   "source": [
    "import statsmodels.formula.api as smf\n",
    "\n",
    "model = smf.ols(formula='A ~ B + C1 + C2 + C3 + C4 + C5 + C6', data=data) ### 仅考虑后门变量 但存在多重共线性\n",
    "result = model.fit()\n",
    "print(result.summary())"
   ]
  },
  {
   "cell_type": "code",
   "execution_count": 10,
   "id": "2f9a7075",
   "metadata": {},
   "outputs": [
    {
     "name": "stdout",
     "output_type": "stream",
     "text": [
      "                            OLS Regression Results                            \n",
      "==============================================================================\n",
      "Dep. Variable:                      A   R-squared:                       0.994\n",
      "Model:                            OLS   Adj. R-squared:                  0.994\n",
      "Method:                 Least Squares   F-statistic:                 1.663e+05\n",
      "Date:                Sun, 04 Sep 2022   Prob (F-statistic):               0.00\n",
      "Time:                        17:14:08   Log-Likelihood:                -1769.7\n",
      "No. Observations:                1000   AIC:                             3543.\n",
      "Df Residuals:                     998   BIC:                             3553.\n",
      "Df Model:                           1                                         \n",
      "Covariance Type:            nonrobust                                         \n",
      "==============================================================================\n",
      "                 coef    std err          t      P>|t|      [0.025      0.975]\n",
      "------------------------------------------------------------------------------\n",
      "Intercept      0.0481      0.045      1.067      0.286      -0.040       0.136\n",
      "B              1.9975      0.005    407.745      0.000       1.988       2.007\n",
      "==============================================================================\n",
      "Omnibus:                        2.082   Durbin-Watson:                   2.095\n",
      "Prob(Omnibus):                  0.353   Jarque-Bera (JB):                2.026\n",
      "Skew:                          -0.110   Prob(JB):                        0.363\n",
      "Kurtosis:                       3.017   Cond. No.                         9.21\n",
      "==============================================================================\n",
      "\n",
      "Notes:\n",
      "[1] Standard Errors assume that the covariance matrix of the errors is correctly specified.\n"
     ]
    }
   ],
   "source": [
    "import statsmodels.formula.api as smf\n",
    "\n",
    "model = smf.ols(formula='A ~ B', data=data) ### 解决多重共线性  （准！）\n",
    "result = model.fit()\n",
    "print(result.summary())"
   ]
  },
  {
   "cell_type": "code",
   "execution_count": 11,
   "id": "31cdf991",
   "metadata": {},
   "outputs": [
    {
     "name": "stdout",
     "output_type": "stream",
     "text": [
      "                            OLS Regression Results                            \n",
      "==============================================================================\n",
      "Dep. Variable:                      A   R-squared:                       1.000\n",
      "Model:                            OLS   Adj. R-squared:                  1.000\n",
      "Method:                 Least Squares   F-statistic:                 1.022e+33\n",
      "Date:                Sun, 04 Sep 2022   Prob (F-statistic):               0.00\n",
      "Time:                        17:14:08   Log-Likelihood:                 31263.\n",
      "No. Observations:                1000   AIC:                        -6.251e+04\n",
      "Df Residuals:                     991   BIC:                        -6.246e+04\n",
      "Df Model:                           8                                         \n",
      "Covariance Type:            nonrobust                                         \n",
      "==============================================================================\n",
      "                 coef    std err          t      P>|t|      [0.025      0.975]\n",
      "------------------------------------------------------------------------------\n",
      "Intercept  -8.327e-16   2.05e-16     -4.062      0.000   -1.23e-15    -4.3e-16\n",
      "B              1.7143   3.05e-17   5.61e+16      0.000       1.714       1.714\n",
      "C1             0.2857   2.76e-16   1.04e+15      0.000       0.286       0.286\n",
      "C2             0.2857   3.01e-16   9.51e+14      0.000       0.286       0.286\n",
      "C3             0.2857   2.97e-16   9.62e+14      0.000       0.286       0.286\n",
      "C4             0.2857   2.94e-16   9.73e+14      0.000       0.286       0.286\n",
      "C5             0.2857    2.9e-16   9.86e+14      0.000       0.286       0.286\n",
      "C6             0.2857   2.04e-16    1.4e+15      0.000       0.286       0.286\n",
      "X1             1.0000   2.05e-16   4.88e+15      0.000       1.000       1.000\n",
      "X2             1.0000   2.11e-16   4.75e+15      0.000       1.000       1.000\n",
      "==============================================================================\n",
      "Omnibus:                       62.731   Durbin-Watson:                   1.920\n",
      "Prob(Omnibus):                  0.000   Jarque-Bera (JB):              220.802\n",
      "Skew:                          -0.183   Prob(JB):                     1.13e-48\n",
      "Kurtosis:                       5.273   Cond. No.                     6.75e+15\n",
      "==============================================================================\n",
      "\n",
      "Notes:\n",
      "[1] Standard Errors assume that the covariance matrix of the errors is correctly specified.\n",
      "[2] The smallest eigenvalue is 2.2e-27. This might indicate that there are\n",
      "strong multicollinearity problems or that the design matrix is singular.\n"
     ]
    }
   ],
   "source": [
    "import statsmodels.formula.api as smf\n",
    "\n",
    "model = smf.ols(formula='A ~ B + C1 + C2 + C3 + C4 + C5 + C6 + X1 + X2', data=data) ### 直接拟合数据生成方程 （不准）\n",
    "result = model.fit()\n",
    "print(result.summary())"
   ]
  },
  {
   "cell_type": "code",
   "execution_count": 12,
   "id": "c74ae4c8",
   "metadata": {},
   "outputs": [
    {
     "name": "stdout",
     "output_type": "stream",
     "text": [
      "                            OLS Regression Results                            \n",
      "==============================================================================\n",
      "Dep. Variable:                      A   R-squared:                       0.994\n",
      "Model:                            OLS   Adj. R-squared:                  0.994\n",
      "Method:                 Least Squares   F-statistic:                 2.782e+04\n",
      "Date:                Sun, 04 Sep 2022   Prob (F-statistic):               0.00\n",
      "Time:                        17:14:08   Log-Likelihood:                -1765.1\n",
      "No. Observations:                1000   AIC:                             3544.\n",
      "Df Residuals:                     993   BIC:                             3579.\n",
      "Df Model:                           6                                         \n",
      "Covariance Type:            nonrobust                                         \n",
      "==============================================================================\n",
      "                 coef    std err          t      P>|t|      [0.025      0.975]\n",
      "------------------------------------------------------------------------------\n",
      "Intercept      0.0571      0.045      1.263      0.207      -0.032       0.146\n",
      "B              1.9372      0.045     43.437      0.000       1.850       2.025\n",
      "C1            -0.0965      0.079     -1.224      0.221      -0.251       0.058\n",
      "C2             0.2068      0.079      2.622      0.009       0.052       0.362\n",
      "C3            -0.0089      0.080     -0.112      0.911      -0.165       0.147\n",
      "C4             0.0763      0.078      0.973      0.331      -0.078       0.230\n",
      "C5             0.1242      0.099      1.249      0.212      -0.071       0.319\n",
      "==============================================================================\n",
      "Omnibus:                        2.599   Durbin-Watson:                   2.093\n",
      "Prob(Omnibus):                  0.273   Jarque-Bera (JB):                2.499\n",
      "Skew:                          -0.120   Prob(JB):                        0.287\n",
      "Kurtosis:                       3.049   Cond. No.                         29.5\n",
      "==============================================================================\n",
      "\n",
      "Notes:\n",
      "[1] Standard Errors assume that the covariance matrix of the errors is correctly specified.\n"
     ]
    }
   ],
   "source": [
    "import statsmodels.formula.api as smf\n",
    "\n",
    "model = smf.ols(formula='A ~ B + C1 + C2 + C3 + C4 + C5', data=data)  ### 当后门变量未充分考虑时\n",
    "result = model.fit()\n",
    "print(result.summary())"
   ]
  },
  {
   "cell_type": "markdown",
   "id": "4042bde9",
   "metadata": {},
   "source": [
    "#### 对E进行回归"
   ]
  },
  {
   "cell_type": "code",
   "execution_count": 13,
   "id": "49179b81",
   "metadata": {},
   "outputs": [
    {
     "name": "stdout",
     "output_type": "stream",
     "text": [
      "                            OLS Regression Results                            \n",
      "==============================================================================\n",
      "Dep. Variable:                      E   R-squared:                       0.994\n",
      "Model:                            OLS   Adj. R-squared:                  0.994\n",
      "Method:                 Least Squares   F-statistic:                 1.672e+05\n",
      "Date:                Sun, 04 Sep 2022   Prob (F-statistic):               0.00\n",
      "Time:                        17:14:08   Log-Likelihood:                -1765.4\n",
      "No. Observations:                1000   AIC:                             3535.\n",
      "Df Residuals:                     998   BIC:                             3545.\n",
      "Df Model:                           1                                         \n",
      "Covariance Type:            nonrobust                                         \n",
      "==============================================================================\n",
      "                 coef    std err          t      P>|t|      [0.025      0.975]\n",
      "------------------------------------------------------------------------------\n",
      "Intercept     -0.0154      0.045     -0.344      0.731      -0.103       0.073\n",
      "B              1.9946      0.005    408.883      0.000       1.985       2.004\n",
      "==============================================================================\n",
      "Omnibus:                        0.407   Durbin-Watson:                   1.957\n",
      "Prob(Omnibus):                  0.816   Jarque-Bera (JB):                0.377\n",
      "Skew:                           0.047   Prob(JB):                        0.828\n",
      "Kurtosis:                       3.008   Cond. No.                         9.21\n",
      "==============================================================================\n",
      "\n",
      "Notes:\n",
      "[1] Standard Errors assume that the covariance matrix of the errors is correctly specified.\n"
     ]
    }
   ],
   "source": [
    "import statsmodels.formula.api as smf  \n",
    "\n",
    "model = smf.ols(formula='E ~ B', data=data)  ### 仅考虑后门变量 但后门变量为空时 （准！）\n",
    "result = model.fit()\n",
    "print(result.summary())"
   ]
  },
  {
   "cell_type": "code",
   "execution_count": 14,
   "id": "5d41f988",
   "metadata": {},
   "outputs": [
    {
     "name": "stdout",
     "output_type": "stream",
     "text": [
      "                            OLS Regression Results                            \n",
      "==============================================================================\n",
      "Dep. Variable:                      E   R-squared:                       1.000\n",
      "Model:                            OLS   Adj. R-squared:                  1.000\n",
      "Method:                 Least Squares   F-statistic:                 7.226e+33\n",
      "Date:                Sun, 04 Sep 2022   Prob (F-statistic):               0.00\n",
      "Time:                        17:14:08   Log-Likelihood:                 31750.\n",
      "No. Observations:                1000   AIC:                        -6.349e+04\n",
      "Df Residuals:                     996   BIC:                        -6.347e+04\n",
      "Df Model:                           3                                         \n",
      "Covariance Type:            nonrobust                                         \n",
      "==============================================================================\n",
      "                 coef    std err          t      P>|t|      [0.025      0.975]\n",
      "------------------------------------------------------------------------------\n",
      "Intercept  -5.551e-17   1.25e-16     -0.444      0.657   -3.01e-16     1.9e-16\n",
      "B              1.0000   1.26e-16   7.93e+15      0.000       1.000       1.000\n",
      "X3             1.0000   1.21e-16   8.26e+15      0.000       1.000       1.000\n",
      "X4             1.0000   1.26e-16   7.95e+15      0.000       1.000       1.000\n",
      "==============================================================================\n",
      "Omnibus:                       35.365   Durbin-Watson:                   1.954\n",
      "Prob(Omnibus):                  0.000   Jarque-Bera (JB):               92.668\n",
      "Skew:                           0.023   Prob(JB):                     7.54e-21\n",
      "Kurtosis:                       4.491   Cond. No.                         18.6\n",
      "==============================================================================\n",
      "\n",
      "Notes:\n",
      "[1] Standard Errors assume that the covariance matrix of the errors is correctly specified.\n"
     ]
    }
   ],
   "source": [
    "import statsmodels.formula.api as smf  \n",
    "\n",
    "model = smf.ols(formula='E ~ B + X3 + X4', data=data)  ### 直接拟合数据生成方程 （准！) 无多重共线性\n",
    "result = model.fit()\n",
    "print(result.summary())"
   ]
  },
  {
   "cell_type": "markdown",
   "id": "983a638f",
   "metadata": {},
   "source": [
    "#### 对F进行回归"
   ]
  },
  {
   "cell_type": "code",
   "execution_count": 15,
   "id": "f3ca9e46",
   "metadata": {},
   "outputs": [
    {
     "name": "stdout",
     "output_type": "stream",
     "text": [
      "                            OLS Regression Results                            \n",
      "==============================================================================\n",
      "Dep. Variable:                      F   R-squared:                       0.985\n",
      "Model:                            OLS   Adj. R-squared:                  0.985\n",
      "Method:                 Least Squares   F-statistic:                 3.244e+04\n",
      "Date:                Sun, 04 Sep 2022   Prob (F-statistic):               0.00\n",
      "Time:                        17:14:08   Log-Likelihood:                -1762.3\n",
      "No. Observations:                1000   AIC:                             3531.\n",
      "Df Residuals:                     997   BIC:                             3545.\n",
      "Df Model:                           2                                         \n",
      "Covariance Type:            nonrobust                                         \n",
      "==============================================================================\n",
      "                 coef    std err          t      P>|t|      [0.025      0.975]\n",
      "------------------------------------------------------------------------------\n",
      "Intercept     -0.0141      0.045     -0.316      0.752      -0.102       0.074\n",
      "B              1.2342      0.005    253.669      0.000       1.225       1.244\n",
      "X6             0.9880      0.045     22.179      0.000       0.901       1.075\n",
      "==============================================================================\n",
      "Omnibus:                        3.910   Durbin-Watson:                   1.942\n",
      "Prob(Omnibus):                  0.142   Jarque-Bera (JB):                3.789\n",
      "Skew:                           0.127   Prob(JB):                        0.150\n",
      "Kurtosis:                       3.163   Cond. No.                         9.26\n",
      "==============================================================================\n",
      "\n",
      "Notes:\n",
      "[1] Standard Errors assume that the covariance matrix of the errors is correctly specified.\n"
     ]
    }
   ],
   "source": [
    "import statsmodels.formula.api as smf  \n",
    "\n",
    "model = smf.ols(formula='F ~ B + X6', data=data)  ### 仅考虑后门变量 且后门变量为1个时 （准？）照理说应该不准，B和X6存在共线性\n",
    "result = model.fit()  ### 可能是因为共线性较弱？\n",
    "print(result.summary())"
   ]
  },
  {
   "cell_type": "code",
   "execution_count": 16,
   "id": "5cc30866",
   "metadata": {},
   "outputs": [
    {
     "name": "stdout",
     "output_type": "stream",
     "text": [
      "                            OLS Regression Results                            \n",
      "==============================================================================\n",
      "Dep. Variable:                      F   R-squared:                       0.985\n",
      "Model:                            OLS   Adj. R-squared:                  0.985\n",
      "Method:                 Least Squares   F-statistic:                 2.165e+04\n",
      "Date:                Sun, 04 Sep 2022   Prob (F-statistic):               0.00\n",
      "Time:                        17:14:08   Log-Likelihood:                -1761.3\n",
      "No. Observations:                1000   AIC:                             3531.\n",
      "Df Residuals:                     996   BIC:                             3550.\n",
      "Df Model:                           3                                         \n",
      "Covariance Type:            nonrobust                                         \n",
      "==============================================================================\n",
      "                 coef    std err          t      P>|t|      [0.025      0.975]\n",
      "------------------------------------------------------------------------------\n",
      "Intercept     -0.0185      0.045     -0.412      0.680      -0.106       0.069\n",
      "B              1.2343      0.005    253.785      0.000       1.225       1.244\n",
      "X6             0.9878      0.045     22.186      0.000       0.900       1.075\n",
      "X7            -0.0162      0.012     -1.393      0.164      -0.039       0.007\n",
      "==============================================================================\n",
      "Omnibus:                        3.744   Durbin-Watson:                   1.942\n",
      "Prob(Omnibus):                  0.154   Jarque-Bera (JB):                3.631\n",
      "Skew:                           0.121   Prob(JB):                        0.163\n",
      "Kurtosis:                       3.168   Cond. No.                         9.28\n",
      "==============================================================================\n",
      "\n",
      "Notes:\n",
      "[1] Standard Errors assume that the covariance matrix of the errors is correctly specified.\n"
     ]
    }
   ],
   "source": [
    "import statsmodels.formula.api as smf  \n",
    "\n",
    "model = smf.ols(formula='F ~ B + X6 + X7', data=data)  ### 直接拟合数据生成方程 （不准）\n",
    "result = model.fit()\n",
    "print(result.summary())"
   ]
  },
  {
   "cell_type": "code",
   "execution_count": 16,
   "id": "3bfc8966",
   "metadata": {},
   "outputs": [],
   "source": []
  }
 ],
 "metadata": {
  "kernelspec": {
   "display_name": "Python 3",
   "language": "python",
   "name": "python3"
  },
  "language_info": {
   "codemirror_mode": {
    "name": "ipython",
    "version": 3
   },
   "file_extension": ".py",
   "mimetype": "text/x-python",
   "name": "python",
   "nbconvert_exporter": "python",
   "pygments_lexer": "ipython3",
   "version": "3.8.8"
  },
  "toc": {
   "base_numbering": 1,
   "nav_menu": {},
   "number_sections": true,
   "sideBar": true,
   "skip_h1_title": false,
   "title_cell": "Table of Contents",
   "title_sidebar": "Contents",
   "toc_cell": false,
   "toc_position": {},
   "toc_section_display": true,
   "toc_window_display": false
  }
 },
 "nbformat": 4,
 "nbformat_minor": 5
}