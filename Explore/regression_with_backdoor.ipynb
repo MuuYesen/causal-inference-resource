{
 "cells": [
  {
   "cell_type": "markdown",
   "id": "4ff06f7c",
   "metadata": {},
   "source": [
    "### 0 Summary"
   ]
  },
  {
   "cell_type": "markdown",
   "id": "d03c6629",
   "metadata": {},
   "source": [
    "1、使用数据生成方程来拟合回归，要求拟合数据特征之间无多重共线性，否则存在系数偏差\n",
    "\n",
    "2、使用后门准则来拟合回归，要求拟合数据特征之间无多重共线性，否则存在系数偏差\n",
    "\n",
    "3、使用后门准则来拟合回归，如果拟合数据特征之间无多重共线性，仍然存在系数偏差，但系数会尽量逼近真实系数\n",
    "\n",
    "4、如果后门变量只有混淆因子，那么使用后门准则拟合回归明显是不可靠的，因为混淆因子显然与处理变量(treatment)强相关，此时可以考虑PSM等\n",
    "\n",
    "5、使用后门准则来拟合回归，要求选择的后门变量尽可能远离处理变量（treatment），从而使特征相关性尽可能低\n",
    "\n",
    "6、使用后门准则来拟合回归，除了使用上述方法，或许还可以寻找一个参数估计算法，这个方法不受特征相关性的影响\n",
    "\n",
    "7、使用后门准则来拟合回归，如果存在数据特征之间的多重共线性，那么一个变量的系数估计将是整合系数效应"
   ]
  },
  {
   "cell_type": "markdown",
   "id": "188bba20",
   "metadata": {},
   "source": [
    "### 1 causal-learn"
   ]
  },
  {
   "cell_type": "code",
   "execution_count": null,
   "id": "f7c92ca3",
   "metadata": {
    "collapsed": true,
    "pycharm": {
     "is_executing": true
    }
   },
   "outputs": [],
   "source": [
    "import numpy as np\n",
    "\n",
    "def gen_coef():\n",
    "    return np.random.uniform(1, 3)\n",
    "\n",
    "np.random.seed(0)\n",
    "sample_size, loc, scale = 1000, 0.0, 1.0\n",
    "L1 = np.random.normal(loc=loc, scale=scale, size=sample_size)\n",
    "L2 = np.random.normal(loc=loc, scale=scale, size=sample_size)\n",
    "L3 = np.random.normal(loc=loc, scale=scale, size=sample_size)\n",
    "X1 = gen_coef() * L1 + gen_coef() * L2 + np.random.normal(loc=loc, scale=scale, size=sample_size)\n",
    "X2 = gen_coef() * X1 + np.random.normal(loc=loc, scale=scale, size=sample_size)\n",
    "X3 = gen_coef() * X2 + np.random.normal(loc=loc, scale=scale, size=sample_size)\n",
    "X4 = gen_coef() * X1 + gen_coef() * L3 + np.random.normal(loc=loc, scale=scale, size=sample_size)\n",
    "X5 = gen_coef() * X3 + gen_coef() * L3 + np.random.normal(loc=loc, scale=scale, size=sample_size)\n",
    "X6 = gen_coef() * L1 + np.random.normal(loc=loc, scale=scale, size=sample_size)\n",
    "X7 = gen_coef() * L2 + gen_coef() * L3 + gen_coef() * X6 + np.random.normal(loc=loc, scale=scale,\n",
    "                                                                            size=sample_size)\n",
    "data = np.array([L1,L2,L3,X1, X2, X3, X4, X5, X6, X7]).T\n",
    "data"
   ]
  },
  {
   "cell_type": "markdown",
   "id": "c95749df",
   "metadata": {},
   "source": [
    "### 2 chaoxi"
   ]
  },
  {
   "cell_type": "code",
   "execution_count": 33,
   "id": "a5f250f6",
   "metadata": {},
   "outputs": [],
   "source": [
    "import numpy as np\n",
    "import pandas as pd\n",
    "\n",
    "N = 100000\n",
    "loc, scale = 0, 1\n",
    "\n",
    "IQ = np.random.normal(loc=loc, scale=scale, size=sample_size)\n",
    "edu = 0.5 * IQ + np.random.normal(loc=loc, scale=scale+1, size=sample_size)\n",
    "earnings = 0.3 * IQ + 0.4 * edu + np.random.normal(loc=loc, scale=scale+2, size=sample_size)\n",
    "art = 1.2 * edu + 0.6 * earnings + np.random.normal(loc=loc, scale=scale+3, size=sample_size)\n",
    "\n",
    "data = pd.DataFrame({'IQ':IQ, 'edu':edu, 'earnings':earnings, 'art':art})"
   ]
  },
  {
   "cell_type": "code",
   "execution_count": 34,
   "id": "c40dc0a5",
   "metadata": {
    "collapsed": true
   },
   "outputs": [
    {
     "name": "stdout",
     "output_type": "stream",
     "text": [
      "                            OLS Regression Results                            \n",
      "==============================================================================\n",
      "Dep. Variable:               earnings   R-squared:                       0.116\n",
      "Model:                            OLS   Adj. R-squared:                  0.114\n",
      "Method:                 Least Squares   F-statistic:                     65.27\n",
      "Date:                Sun, 04 Sep 2022   Prob (F-statistic):           2.30e-27\n",
      "Time:                        13:55:56   Log-Likelihood:                -2524.9\n",
      "No. Observations:                1000   AIC:                             5056.\n",
      "Df Residuals:                     997   BIC:                             5071.\n",
      "Df Model:                           2                                         \n",
      "Covariance Type:            nonrobust                                         \n",
      "==============================================================================\n",
      "                 coef    std err          t      P>|t|      [0.025      0.975]\n",
      "------------------------------------------------------------------------------\n",
      "Intercept     -0.0507      0.096     -0.529      0.597      -0.239       0.137\n",
      "IQ             0.4271      0.098      4.345      0.000       0.234       0.620\n",
      "edu            0.4359      0.048      9.090      0.000       0.342       0.530\n",
      "==============================================================================\n",
      "Omnibus:                       12.024   Durbin-Watson:                   1.932\n",
      "Prob(Omnibus):                  0.002   Jarque-Bera (JB):               13.783\n",
      "Skew:                          -0.191   Prob(JB):                      0.00102\n",
      "Kurtosis:                       3.431   Cond. No.                         2.17\n",
      "==============================================================================\n",
      "\n",
      "Notes:\n",
      "[1] Standard Errors assume that the covariance matrix of the errors is correctly specified.\n"
     ]
    }
   ],
   "source": [
    "import statsmodels.formula.api as smf\n",
    "\n",
    "model = smf.ols(formula='earnings ~ IQ + edu', data=data)\n",
    "result = model.fit()\n",
    "print(result.summary())"
   ]
  },
  {
   "cell_type": "code",
   "execution_count": 35,
   "id": "dc5f7584",
   "metadata": {
    "collapsed": true
   },
   "outputs": [
    {
     "name": "stdout",
     "output_type": "stream",
     "text": [
      "                            GLS Regression Results                            \n",
      "==============================================================================\n",
      "Dep. Variable:               earnings   R-squared:                       0.116\n",
      "Model:                            GLS   Adj. R-squared:                  0.114\n",
      "Method:                 Least Squares   F-statistic:                     65.27\n",
      "Date:                Sun, 04 Sep 2022   Prob (F-statistic):           2.30e-27\n",
      "Time:                        13:55:56   Log-Likelihood:                -2524.9\n",
      "No. Observations:                1000   AIC:                             5056.\n",
      "Df Residuals:                     997   BIC:                             5071.\n",
      "Df Model:                           2                                         \n",
      "Covariance Type:            nonrobust                                         \n",
      "==============================================================================\n",
      "                 coef    std err          t      P>|t|      [0.025      0.975]\n",
      "------------------------------------------------------------------------------\n",
      "Intercept     -0.0507      0.096     -0.529      0.597      -0.239       0.137\n",
      "IQ             0.4271      0.098      4.345      0.000       0.234       0.620\n",
      "edu            0.4359      0.048      9.090      0.000       0.342       0.530\n",
      "==============================================================================\n",
      "Omnibus:                       12.024   Durbin-Watson:                   1.932\n",
      "Prob(Omnibus):                  0.002   Jarque-Bera (JB):               13.783\n",
      "Skew:                          -0.191   Prob(JB):                      0.00102\n",
      "Kurtosis:                       3.431   Cond. No.                         2.17\n",
      "==============================================================================\n",
      "\n",
      "Notes:\n",
      "[1] Standard Errors assume that the covariance matrix of the errors is correctly specified.\n"
     ]
    }
   ],
   "source": [
    "import statsmodels.formula.api as smf\n",
    "\n",
    "model = smf.gls(formula='earnings ~ IQ + edu', data=data)\n",
    "result = model.fit()\n",
    "print(result.summary())"
   ]
  },
  {
   "cell_type": "code",
   "execution_count": 36,
   "id": "900170f4",
   "metadata": {
    "collapsed": true
   },
   "outputs": [
    {
     "name": "stdout",
     "output_type": "stream",
     "text": [
      "                            OLS Regression Results                            \n",
      "==============================================================================\n",
      "Dep. Variable:               earnings   R-squared:                       0.293\n",
      "Model:                            OLS   Adj. R-squared:                  0.291\n",
      "Method:                 Least Squares   F-statistic:                     137.7\n",
      "Date:                Sun, 04 Sep 2022   Prob (F-statistic):           1.30e-74\n",
      "Time:                        13:55:56   Log-Likelihood:                -2413.0\n",
      "No. Observations:                1000   AIC:                             4834.\n",
      "Df Residuals:                     996   BIC:                             4854.\n",
      "Df Model:                           3                                         \n",
      "Covariance Type:            nonrobust                                         \n",
      "==============================================================================\n",
      "                 coef    std err          t      P>|t|      [0.025      0.975]\n",
      "------------------------------------------------------------------------------\n",
      "Intercept      0.0028      0.086      0.033      0.974      -0.165       0.171\n",
      "IQ             0.2938      0.088      3.327      0.001       0.121       0.467\n",
      "edu           -0.0468      0.053     -0.889      0.374      -0.150       0.057\n",
      "art            0.3068      0.019     15.807      0.000       0.269       0.345\n",
      "==============================================================================\n",
      "Omnibus:                        6.805   Durbin-Watson:                   1.871\n",
      "Prob(Omnibus):                  0.033   Jarque-Bera (JB):                7.931\n",
      "Skew:                          -0.105   Prob(JB):                       0.0190\n",
      "Kurtosis:                       3.382   Cond. No.                         5.95\n",
      "==============================================================================\n",
      "\n",
      "Notes:\n",
      "[1] Standard Errors assume that the covariance matrix of the errors is correctly specified.\n"
     ]
    }
   ],
   "source": [
    "import statsmodels.formula.api as smf\n",
    "\n",
    "model = smf.ols(formula='earnings ~ IQ + edu + art', data=data)\n",
    "result = model.fit()\n",
    "print(result.summary())"
   ]
  },
  {
   "cell_type": "code",
   "execution_count": 37,
   "id": "eac13bce",
   "metadata": {
    "collapsed": true
   },
   "outputs": [
    {
     "name": "stdout",
     "output_type": "stream",
     "text": [
      "                            GLS Regression Results                            \n",
      "==============================================================================\n",
      "Dep. Variable:               earnings   R-squared:                       0.293\n",
      "Model:                            GLS   Adj. R-squared:                  0.291\n",
      "Method:                 Least Squares   F-statistic:                     137.7\n",
      "Date:                Sun, 04 Sep 2022   Prob (F-statistic):           1.30e-74\n",
      "Time:                        13:55:56   Log-Likelihood:                -2413.0\n",
      "No. Observations:                1000   AIC:                             4834.\n",
      "Df Residuals:                     996   BIC:                             4854.\n",
      "Df Model:                           3                                         \n",
      "Covariance Type:            nonrobust                                         \n",
      "==============================================================================\n",
      "                 coef    std err          t      P>|t|      [0.025      0.975]\n",
      "------------------------------------------------------------------------------\n",
      "Intercept      0.0028      0.086      0.033      0.974      -0.165       0.171\n",
      "IQ             0.2938      0.088      3.327      0.001       0.121       0.467\n",
      "edu           -0.0468      0.053     -0.889      0.374      -0.150       0.057\n",
      "art            0.3068      0.019     15.807      0.000       0.269       0.345\n",
      "==============================================================================\n",
      "Omnibus:                        6.805   Durbin-Watson:                   1.871\n",
      "Prob(Omnibus):                  0.033   Jarque-Bera (JB):                7.931\n",
      "Skew:                          -0.105   Prob(JB):                       0.0190\n",
      "Kurtosis:                       3.382   Cond. No.                         5.95\n",
      "==============================================================================\n",
      "\n",
      "Notes:\n",
      "[1] Standard Errors assume that the covariance matrix of the errors is correctly specified.\n"
     ]
    }
   ],
   "source": [
    "import statsmodels.formula.api as smf\n",
    "\n",
    "model = smf.gls(formula='earnings ~ IQ + edu + art', data=data)\n",
    "result = model.fit()\n",
    "print(result.summary())"
   ]
  },
  {
   "cell_type": "markdown",
   "id": "5f385543",
   "metadata": {},
   "source": [
    "gls 和 ols 的系数拟合是一样的，这可能是因为没有异方差的问题？但是现在每个特征的方差都不一样，结果还是之前的结论"
   ]
  },
  {
   "cell_type": "markdown",
   "id": "0211d204",
   "metadata": {},
   "source": [
    "当R和python的结果不一样时，应该选择哪个更合适？"
   ]
  },
  {
   "cell_type": "markdown",
   "id": "3cc24039",
   "metadata": {},
   "source": [
    "### 3 xingming"
   ]
  },
  {
   "cell_type": "code",
   "execution_count": 75,
   "id": "d65a054b",
   "metadata": {},
   "outputs": [],
   "source": [
    "import numpy as np\n",
    "import pandas as pd\n",
    "\n",
    "N = 100000\n",
    "loc, scale = 0, 1\n",
    "\n",
    "C1 = np.random.normal(loc=loc, scale=scale, size=sample_size)\n",
    "C2 = C1 + np.random.normal(loc=loc, scale=scale, size=sample_size)\n",
    "C3 = C2 + np.random.normal(loc=loc, scale=scale, size=sample_size)\n",
    "C4 = C3 + np.random.normal(loc=loc, scale=scale, size=sample_size)\n",
    "C5 = C4 + np.random.normal(loc=loc, scale=scale, size=sample_size)\n",
    "C6 = C5 + np.random.normal(loc=loc, scale=scale, size=sample_size)\n",
    "X1 = np.random.normal(loc=loc, scale=scale, size=sample_size)\n",
    "X2 = np.random.normal(loc=loc, scale=scale, size=sample_size)\n",
    "B = C1 + C2 + C3 + C4 + C5 + C6\n",
    "A = B + C1 + C2 + C3 + C4 + C5 + C6 + X1 + X2\n",
    "\n",
    "X3 = np.random.normal(loc=loc, scale=scale, size=sample_size)\n",
    "X4 = np.random.normal(loc=loc, scale=scale, size=sample_size) + B \n",
    "E = B + X3 + X4\n",
    "\n",
    "X5 = C6 + np.random.normal(loc=loc, scale=scale, size=sample_size)\n",
    "X6 = np.random.normal(loc=loc, scale=scale, size=sample_size)\n",
    "F = B + X5 + X6\n",
    "\n",
    "data = pd.DataFrame({'C1':C1, 'C2':C2, 'C3':C3, 'C4':C4, 'C5':C5, 'C6':C6,\n",
    "                     'X1':X1, 'X2':X2, 'X3':X3, 'X4':X4, 'X5':X5, 'X6':X6,\n",
    "                     'A':A, 'B':B, 'E':E, 'F':F})"
   ]
  },
  {
   "cell_type": "markdown",
   "id": "bb26c87b",
   "metadata": {},
   "source": [
    "#### 3.1 对B进行回归"
   ]
  },
  {
   "cell_type": "code",
   "execution_count": 76,
   "id": "17534ba1",
   "metadata": {},
   "outputs": [
    {
     "name": "stdout",
     "output_type": "stream",
     "text": [
      "                            OLS Regression Results                            \n",
      "==============================================================================\n",
      "Dep. Variable:                      B   R-squared:                       1.000\n",
      "Model:                            OLS   Adj. R-squared:                  1.000\n",
      "Method:                 Least Squares   F-statistic:                 1.360e+33\n",
      "Date:                Sun, 04 Sep 2022   Prob (F-statistic):               0.00\n",
      "Time:                        16:04:02   Log-Likelihood:                 31916.\n",
      "No. Observations:                1000   AIC:                        -6.382e+04\n",
      "Df Residuals:                     993   BIC:                        -6.378e+04\n",
      "Df Model:                           6                                         \n",
      "Covariance Type:            nonrobust                                         \n",
      "==============================================================================\n",
      "                 coef    std err          t      P>|t|      [0.025      0.975]\n",
      "------------------------------------------------------------------------------\n",
      "Intercept  -1.124e-15   1.06e-16    -10.586      0.000   -1.33e-15   -9.16e-16\n",
      "C1             1.0000   1.49e-16    6.7e+15      0.000       1.000       1.000\n",
      "C2             1.0000   1.46e-16   6.83e+15      0.000       1.000       1.000\n",
      "C3             1.0000   1.51e-16   6.64e+15      0.000       1.000       1.000\n",
      "C4             1.0000   1.46e-16   6.86e+15      0.000       1.000       1.000\n",
      "C5             1.0000   1.54e-16   6.51e+15      0.000       1.000       1.000\n",
      "C6             1.0000   1.08e-16   9.25e+15      0.000       1.000       1.000\n",
      "==============================================================================\n",
      "Omnibus:                        1.546   Durbin-Watson:                   1.819\n",
      "Prob(Omnibus):                  0.462   Jarque-Bera (JB):                1.618\n",
      "Skew:                           0.089   Prob(JB):                        0.445\n",
      "Kurtosis:                       2.914   Cond. No.                         8.09\n",
      "==============================================================================\n",
      "\n",
      "Notes:\n",
      "[1] Standard Errors assume that the covariance matrix of the errors is correctly specified.\n"
     ]
    }
   ],
   "source": [
    "import statsmodels.formula.api as smf\n",
    "\n",
    "model = smf.ols(formula='B ~ C1 + C2 + C3 + C4 + C5 + C6', data=data) ### 直接拟合数据生成方程 （准！) 无多重共线性\n",
    "result = model.fit()\n",
    "print(result.summary())"
   ]
  },
  {
   "cell_type": "markdown",
   "id": "ec98ddb2",
   "metadata": {},
   "source": [
    "#### 3.2 对A进行回归"
   ]
  },
  {
   "cell_type": "code",
   "execution_count": 77,
   "id": "1792be59",
   "metadata": {},
   "outputs": [
    {
     "name": "stdout",
     "output_type": "stream",
     "text": [
      "                            OLS Regression Results                            \n",
      "==============================================================================\n",
      "Dep. Variable:                      A   R-squared:                       0.995\n",
      "Model:                            OLS   Adj. R-squared:                  0.995\n",
      "Method:                 Least Squares   F-statistic:                 3.041e+04\n",
      "Date:                Sun, 04 Sep 2022   Prob (F-statistic):               0.00\n",
      "Time:                        16:04:02   Log-Likelihood:                -1762.9\n",
      "No. Observations:                1000   AIC:                             3540.\n",
      "Df Residuals:                     993   BIC:                             3574.\n",
      "Df Model:                           6                                         \n",
      "Covariance Type:            nonrobust                                         \n",
      "==============================================================================\n",
      "                 coef    std err          t      P>|t|      [0.025      0.975]\n",
      "------------------------------------------------------------------------------\n",
      "Intercept      0.0152      0.045      0.339      0.735      -0.073       0.103\n",
      "B              1.7134      0.006    267.668      0.000       1.701       1.726\n",
      "C1             0.3070      0.059      5.228      0.000       0.192       0.422\n",
      "C2             0.2273      0.062      3.656      0.000       0.105       0.349\n",
      "C3             0.3043      0.064      4.735      0.000       0.178       0.430\n",
      "C4             0.3664      0.062      5.917      0.000       0.245       0.488\n",
      "C5             0.1314      0.065      2.018      0.044       0.004       0.259\n",
      "C6             0.3770      0.046      8.114      0.000       0.286       0.468\n",
      "==============================================================================\n",
      "Omnibus:                        5.291   Durbin-Watson:                   1.934\n",
      "Prob(Omnibus):                  0.071   Jarque-Bera (JB):                4.157\n",
      "Skew:                          -0.039   Prob(JB):                        0.125\n",
      "Kurtosis:                       2.694   Cond. No.                     2.35e+16\n",
      "==============================================================================\n",
      "\n",
      "Notes:\n",
      "[1] Standard Errors assume that the covariance matrix of the errors is correctly specified.\n",
      "[2] The smallest eigenvalue is 1.97e-28. This might indicate that there are\n",
      "strong multicollinearity problems or that the design matrix is singular.\n"
     ]
    }
   ],
   "source": [
    "import statsmodels.formula.api as smf\n",
    "\n",
    "model = smf.ols(formula='A ~ B + C1 + C2 + C3 + C4 + C5 + C6', data=data) ### 仅考虑后门变量 但存在多重共线性\n",
    "result = model.fit()\n",
    "print(result.summary())"
   ]
  },
  {
   "cell_type": "code",
   "execution_count": 78,
   "id": "2f9a7075",
   "metadata": {},
   "outputs": [
    {
     "name": "stdout",
     "output_type": "stream",
     "text": [
      "                            OLS Regression Results                            \n",
      "==============================================================================\n",
      "Dep. Variable:                      A   R-squared:                       0.995\n",
      "Model:                            OLS   Adj. R-squared:                  0.995\n",
      "Method:                 Least Squares   F-statistic:                 1.821e+05\n",
      "Date:                Sun, 04 Sep 2022   Prob (F-statistic):               0.00\n",
      "Time:                        16:04:02   Log-Likelihood:                -1766.3\n",
      "No. Observations:                1000   AIC:                             3537.\n",
      "Df Residuals:                     998   BIC:                             3547.\n",
      "Df Model:                           1                                         \n",
      "Covariance Type:            nonrobust                                         \n",
      "==============================================================================\n",
      "                 coef    std err          t      P>|t|      [0.025      0.975]\n",
      "------------------------------------------------------------------------------\n",
      "Intercept      0.0175      0.045      0.390      0.697      -0.071       0.106\n",
      "B              2.0000      0.005    426.739      0.000       1.991       2.009\n",
      "==============================================================================\n",
      "Omnibus:                        4.834   Durbin-Watson:                   1.943\n",
      "Prob(Omnibus):                  0.089   Jarque-Bera (JB):                3.895\n",
      "Skew:                          -0.044   Prob(JB):                        0.143\n",
      "Kurtosis:                       2.707   Cond. No.                         9.60\n",
      "==============================================================================\n",
      "\n",
      "Notes:\n",
      "[1] Standard Errors assume that the covariance matrix of the errors is correctly specified.\n"
     ]
    }
   ],
   "source": [
    "import statsmodels.formula.api as smf\n",
    "\n",
    "model = smf.ols(formula='A ~ B', data=data) ### 解决多重共线性  （准！）\n",
    "result = model.fit()\n",
    "print(result.summary())"
   ]
  },
  {
   "cell_type": "code",
   "execution_count": 79,
   "id": "31cdf991",
   "metadata": {},
   "outputs": [
    {
     "name": "stdout",
     "output_type": "stream",
     "text": [
      "                            OLS Regression Results                            \n",
      "==============================================================================\n",
      "Dep. Variable:                      A   R-squared:                       1.000\n",
      "Model:                            OLS   Adj. R-squared:                  1.000\n",
      "Method:                 Least Squares   F-statistic:                 1.722e+33\n",
      "Date:                Sun, 04 Sep 2022   Prob (F-statistic):               0.00\n",
      "Time:                        16:04:02   Log-Likelihood:                 31482.\n",
      "No. Observations:                1000   AIC:                        -6.295e+04\n",
      "Df Residuals:                     991   BIC:                        -6.290e+04\n",
      "Df Model:                           8                                         \n",
      "Covariance Type:            nonrobust                                         \n",
      "==============================================================================\n",
      "                 coef    std err          t      P>|t|      [0.025      0.975]\n",
      "------------------------------------------------------------------------------\n",
      "Intercept  -3.608e-16   1.64e-16     -2.201      0.028   -6.83e-16   -3.91e-17\n",
      "B              1.7143   2.34e-17   7.33e+16      0.000       1.714       1.714\n",
      "C1             0.2857   2.14e-16   1.33e+15      0.000       0.286       0.286\n",
      "C2             0.2857   2.27e-16   1.26e+15      0.000       0.286       0.286\n",
      "C3             0.2857   2.35e-16   1.22e+15      0.000       0.286       0.286\n",
      "C4             0.2857   2.26e-16   1.26e+15      0.000       0.286       0.286\n",
      "C5             0.2857   2.39e-16    1.2e+15      0.000       0.286       0.286\n",
      "C6             0.2857    1.7e-16   1.68e+15      0.000       0.286       0.286\n",
      "X1             1.0000   1.65e-16   6.07e+15      0.000       1.000       1.000\n",
      "X2             1.0000   1.65e-16   6.05e+15      0.000       1.000       1.000\n",
      "==============================================================================\n",
      "Omnibus:                       37.914   Durbin-Watson:                   1.931\n",
      "Prob(Omnibus):                  0.000   Jarque-Bera (JB):              104.266\n",
      "Skew:                          -0.001   Prob(JB):                     2.29e-23\n",
      "Kurtosis:                       4.582   Cond. No.                     9.85e+15\n",
      "==============================================================================\n",
      "\n",
      "Notes:\n",
      "[1] Standard Errors assume that the covariance matrix of the errors is correctly specified.\n",
      "[2] The smallest eigenvalue is 1.12e-27. This might indicate that there are\n",
      "strong multicollinearity problems or that the design matrix is singular.\n"
     ]
    }
   ],
   "source": [
    "import statsmodels.formula.api as smf\n",
    "\n",
    "model = smf.ols(formula='A ~ B + C1 + C2 + C3 + C4 + C5 + C6 + X1 + X2', data=data) ### 直接拟合数据生成方程 （不准）\n",
    "result = model.fit()\n",
    "print(result.summary())"
   ]
  },
  {
   "cell_type": "code",
   "execution_count": 80,
   "id": "c74ae4c8",
   "metadata": {},
   "outputs": [
    {
     "name": "stdout",
     "output_type": "stream",
     "text": [
      "                            OLS Regression Results                            \n",
      "==============================================================================\n",
      "Dep. Variable:                      A   R-squared:                       0.995\n",
      "Model:                            OLS   Adj. R-squared:                  0.995\n",
      "Method:                 Least Squares   F-statistic:                 3.041e+04\n",
      "Date:                Sun, 04 Sep 2022   Prob (F-statistic):               0.00\n",
      "Time:                        16:04:02   Log-Likelihood:                -1762.9\n",
      "No. Observations:                1000   AIC:                             3540.\n",
      "Df Residuals:                     993   BIC:                             3574.\n",
      "Df Model:                           6                                         \n",
      "Covariance Type:            nonrobust                                         \n",
      "==============================================================================\n",
      "                 coef    std err          t      P>|t|      [0.025      0.975]\n",
      "------------------------------------------------------------------------------\n",
      "Intercept      0.0152      0.045      0.339      0.735      -0.073       0.103\n",
      "B              2.0904      0.046     45.696      0.000       2.001       2.180\n",
      "C1            -0.0700      0.080     -0.880      0.379      -0.226       0.086\n",
      "C2            -0.1496      0.077     -1.955      0.051      -0.300       0.001\n",
      "C3            -0.0727      0.079     -0.924      0.356      -0.227       0.082\n",
      "C4            -0.0106      0.076     -0.139      0.889      -0.159       0.138\n",
      "C5            -0.2455      0.103     -2.384      0.017      -0.448      -0.043\n",
      "==============================================================================\n",
      "Omnibus:                        5.291   Durbin-Watson:                   1.934\n",
      "Prob(Omnibus):                  0.071   Jarque-Bera (JB):                4.157\n",
      "Skew:                          -0.039   Prob(JB):                        0.125\n",
      "Kurtosis:                       2.694   Cond. No.                         32.0\n",
      "==============================================================================\n",
      "\n",
      "Notes:\n",
      "[1] Standard Errors assume that the covariance matrix of the errors is correctly specified.\n"
     ]
    }
   ],
   "source": [
    "import statsmodels.formula.api as smf\n",
    "\n",
    "model = smf.ols(formula='A ~ B + C1 + C2 + C3 + C4 + C5', data=data)  ### 当后门变量未充分考虑时\n",
    "result = model.fit()\n",
    "print(result.summary())"
   ]
  },
  {
   "cell_type": "markdown",
   "id": "4042bde9",
   "metadata": {},
   "source": [
    "#### 3.3 对E进行回归"
   ]
  },
  {
   "cell_type": "code",
   "execution_count": 81,
   "id": "49179b81",
   "metadata": {},
   "outputs": [
    {
     "name": "stdout",
     "output_type": "stream",
     "text": [
      "                            OLS Regression Results                            \n",
      "==============================================================================\n",
      "Dep. Variable:                      E   R-squared:                       0.995\n",
      "Model:                            OLS   Adj. R-squared:                  0.995\n",
      "Method:                 Least Squares   F-statistic:                 1.870e+05\n",
      "Date:                Sun, 04 Sep 2022   Prob (F-statistic):               0.00\n",
      "Time:                        16:04:02   Log-Likelihood:                -1752.5\n",
      "No. Observations:                1000   AIC:                             3509.\n",
      "Df Residuals:                     998   BIC:                             3519.\n",
      "Df Model:                           1                                         \n",
      "Covariance Type:            nonrobust                                         \n",
      "==============================================================================\n",
      "                 coef    std err          t      P>|t|      [0.025      0.975]\n",
      "------------------------------------------------------------------------------\n",
      "Intercept      0.0489      0.044      1.104      0.270      -0.038       0.136\n",
      "B              1.9991      0.005    432.477      0.000       1.990       2.008\n",
      "==============================================================================\n",
      "Omnibus:                        1.689   Durbin-Watson:                   1.972\n",
      "Prob(Omnibus):                  0.430   Jarque-Bera (JB):                1.567\n",
      "Skew:                          -0.061   Prob(JB):                        0.457\n",
      "Kurtosis:                       3.151   Cond. No.                         9.60\n",
      "==============================================================================\n",
      "\n",
      "Notes:\n",
      "[1] Standard Errors assume that the covariance matrix of the errors is correctly specified.\n"
     ]
    }
   ],
   "source": [
    "import statsmodels.formula.api as smf  \n",
    "\n",
    "model = smf.ols(formula='E ~ B', data=data)  ### 仅考虑后门变量 但后门变量为空时 （准！）\n",
    "result = model.fit()\n",
    "print(result.summary())"
   ]
  },
  {
   "cell_type": "code",
   "execution_count": 82,
   "id": "5d41f988",
   "metadata": {},
   "outputs": [
    {
     "name": "stdout",
     "output_type": "stream",
     "text": [
      "                            OLS Regression Results                            \n",
      "==============================================================================\n",
      "Dep. Variable:                      E   R-squared:                       1.000\n",
      "Model:                            OLS   Adj. R-squared:                  1.000\n",
      "Method:                 Least Squares   F-statistic:                 5.382e+33\n",
      "Date:                Sun, 04 Sep 2022   Prob (F-statistic):               0.00\n",
      "Time:                        16:04:02   Log-Likelihood:                 31560.\n",
      "No. Observations:                1000   AIC:                        -6.311e+04\n",
      "Df Residuals:                     996   BIC:                        -6.309e+04\n",
      "Df Model:                           3                                         \n",
      "Covariance Type:            nonrobust                                         \n",
      "==============================================================================\n",
      "                 coef    std err          t      P>|t|      [0.025      0.975]\n",
      "------------------------------------------------------------------------------\n",
      "Intercept   5.274e-16   1.51e-16      3.487      0.001    2.31e-16    8.24e-16\n",
      "B              1.0000   1.54e-16   6.48e+15      0.000       1.000       1.000\n",
      "X3             1.0000   1.49e-16   6.73e+15      0.000       1.000       1.000\n",
      "X4             1.0000   1.53e-16   6.52e+15      0.000       1.000       1.000\n",
      "==============================================================================\n",
      "Omnibus:                       24.526   Durbin-Watson:                   2.067\n",
      "Prob(Omnibus):                  0.000   Jarque-Bera (JB):               46.387\n",
      "Skew:                           0.131   Prob(JB):                     8.46e-11\n",
      "Kurtosis:                       4.022   Cond. No.                         19.6\n",
      "==============================================================================\n",
      "\n",
      "Notes:\n",
      "[1] Standard Errors assume that the covariance matrix of the errors is correctly specified.\n"
     ]
    }
   ],
   "source": [
    "import statsmodels.formula.api as smf  \n",
    "\n",
    "model = smf.ols(formula='E ~ B + X3 + X4', data=data)  ### 直接拟合数据生成方程 （准！) 无多重共线性\n",
    "result = model.fit()\n",
    "print(result.summary())"
   ]
  },
  {
   "cell_type": "markdown",
   "id": "983a638f",
   "metadata": {},
   "source": [
    "#### 3.4 对F进行回归"
   ]
  },
  {
   "cell_type": "code",
   "execution_count": 83,
   "id": "f3ca9e46",
   "metadata": {},
   "outputs": [
    {
     "name": "stdout",
     "output_type": "stream",
     "text": [
      "                            OLS Regression Results                            \n",
      "==============================================================================\n",
      "Dep. Variable:                      F   R-squared:                       0.984\n",
      "Model:                            OLS   Adj. R-squared:                  0.984\n",
      "Method:                 Least Squares   F-statistic:                 3.122e+04\n",
      "Date:                Sun, 04 Sep 2022   Prob (F-statistic):               0.00\n",
      "Time:                        16:04:02   Log-Likelihood:                -1818.4\n",
      "No. Observations:                1000   AIC:                             3643.\n",
      "Df Residuals:                     997   BIC:                             3657.\n",
      "Df Model:                           2                                         \n",
      "Covariance Type:            nonrobust                                         \n",
      "==============================================================================\n",
      "                 coef    std err          t      P>|t|      [0.025      0.975]\n",
      "------------------------------------------------------------------------------\n",
      "Intercept      0.0289      0.047      0.610      0.542      -0.064       0.122\n",
      "B              1.2291      0.005    248.841      0.000       1.219       1.239\n",
      "X6             0.9886      0.046     21.611      0.000       0.899       1.078\n",
      "==============================================================================\n",
      "Omnibus:                        1.753   Durbin-Watson:                   1.847\n",
      "Prob(Omnibus):                  0.416   Jarque-Bera (JB):                1.642\n",
      "Skew:                          -0.094   Prob(JB):                        0.440\n",
      "Kurtosis:                       3.061   Cond. No.                         9.75\n",
      "==============================================================================\n",
      "\n",
      "Notes:\n",
      "[1] Standard Errors assume that the covariance matrix of the errors is correctly specified.\n"
     ]
    }
   ],
   "source": [
    "import statsmodels.formula.api as smf  \n",
    "\n",
    "model = smf.ols(formula='F ~ B + X6', data=data)  ### 仅考虑后门变量 且后门变量为1个时 （准？）照理说应该不准，B和X6存在共线性\n",
    "result = model.fit()  ### 可能是因为共线性较弱？\n",
    "print(result.summary())"
   ]
  },
  {
   "cell_type": "code",
   "execution_count": 84,
   "id": "5cc30866",
   "metadata": {},
   "outputs": [
    {
     "name": "stdout",
     "output_type": "stream",
     "text": [
      "                            OLS Regression Results                            \n",
      "==============================================================================\n",
      "Dep. Variable:                      F   R-squared:                       0.984\n",
      "Model:                            OLS   Adj. R-squared:                  0.984\n",
      "Method:                 Least Squares   F-statistic:                 2.082e+04\n",
      "Date:                Sun, 04 Sep 2022   Prob (F-statistic):               0.00\n",
      "Time:                        16:04:02   Log-Likelihood:                -1817.7\n",
      "No. Observations:                1000   AIC:                             3643.\n",
      "Df Residuals:                     996   BIC:                             3663.\n",
      "Df Model:                           3                                         \n",
      "Covariance Type:            nonrobust                                         \n",
      "==============================================================================\n",
      "                 coef    std err          t      P>|t|      [0.025      0.975]\n",
      "------------------------------------------------------------------------------\n",
      "Intercept      0.0325      0.047      0.684      0.494      -0.061       0.126\n",
      "B              1.2291      0.005    248.845      0.000       1.219       1.239\n",
      "X6             0.9905      0.046     21.640      0.000       0.901       1.080\n",
      "X7             0.0137      0.012      1.113      0.266      -0.010       0.038\n",
      "==============================================================================\n",
      "Omnibus:                        1.522   Durbin-Watson:                   1.850\n",
      "Prob(Omnibus):                  0.467   Jarque-Bera (JB):                1.425\n",
      "Skew:                          -0.089   Prob(JB):                        0.490\n",
      "Kurtosis:                       3.050   Cond. No.                         9.76\n",
      "==============================================================================\n",
      "\n",
      "Notes:\n",
      "[1] Standard Errors assume that the covariance matrix of the errors is correctly specified.\n"
     ]
    }
   ],
   "source": [
    "import statsmodels.formula.api as smf  \n",
    "\n",
    "model = smf.ols(formula='F ~ B + X6 + X7', data=data)  ### 直接拟合数据生成方程 （不准）\n",
    "result = model.fit()\n",
    "print(result.summary())"
   ]
  },
  {
   "cell_type": "code",
   "execution_count": null,
   "id": "5881b236",
   "metadata": {},
   "outputs": [],
   "source": []
  }
 ],
 "metadata": {
  "kernelspec": {
   "display_name": "Python 3 (ipykernel)",
   "language": "python",
   "name": "python3"
  },
  "language_info": {
   "codemirror_mode": {
    "name": "ipython",
    "version": 3
   },
   "file_extension": ".py",
   "mimetype": "text/x-python",
   "name": "python",
   "nbconvert_exporter": "python",
   "pygments_lexer": "ipython3",
   "version": "3.7.12"
  },
  "toc": {
   "base_numbering": 1,
   "nav_menu": {},
   "number_sections": false,
   "sideBar": true,
   "skip_h1_title": false,
   "title_cell": "Table of Contents",
   "title_sidebar": "Contents",
   "toc_cell": false,
   "toc_position": {},
   "toc_section_display": true,
   "toc_window_display": false
  }
 },
 "nbformat": 4,
 "nbformat_minor": 5
}
