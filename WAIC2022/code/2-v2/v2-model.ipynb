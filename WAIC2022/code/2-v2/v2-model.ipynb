{
 "cells": [
  {
   "cell_type": "markdown",
   "id": "81f8f3db",
   "metadata": {},
   "source": [
    "## 环境搭建"
   ]
  },
  {
   "cell_type": "code",
   "execution_count": 17,
   "id": "b8e5382c",
   "metadata": {},
   "outputs": [],
   "source": [
    "import pandas as pd\n",
    "import numpy as np\n",
    "import torch\n",
    "import torch.nn as nn\n",
    "\n",
    "from sklearn.preprocessing import OrdinalEncoder, StandardScaler\n",
    "from sklearn.ensemble import RandomForestClassifier, RandomForestRegressor\n",
    "\n",
    "import ylearn\n",
    "from ylearn.causal_discovery import CausalDiscovery\n",
    "\n",
    "from IPython.core.interactiveshell import InteractiveShell \n",
    "InteractiveShell.ast_node_interactivity = \"all\""
   ]
  },
  {
   "cell_type": "code",
   "execution_count": 18,
   "id": "0538346c",
   "metadata": {},
   "outputs": [],
   "source": [
    "np.random.seed(2022)"
   ]
  },
  {
   "cell_type": "code",
   "execution_count": 19,
   "id": "b816c639",
   "metadata": {},
   "outputs": [],
   "source": [
    "# replace nan\n",
    "def build_data(train):\n",
    "    train_ = {}\n",
    "    for i in train.columns:\n",
    "        train_i = train[i]\n",
    "        if any(train[i].isna()):\n",
    "            train_i = train_i.replace(np.nan, train[i].mean())\n",
    "        if len(train_i.value_counts()) <= 20 and train_i.dtype != object:\n",
    "            train_i = train_i.astype(int)\n",
    "        train_[i] = train_i\n",
    "\n",
    "    return pd.DataFrame(train_)\n",
    "\n",
    "# save data and their corresponding transformers\n",
    "class TransData:\n",
    "    def __init__(self, name, is_obj=False):\n",
    "        self.is_obj = is_obj\n",
    "        self.name = name\n",
    "        self.transformer = None\n",
    "\n",
    "    def __call__(self, data):\n",
    "        self.df = data[self.name]\n",
    "        series = self.df.to_numpy().reshape(-1, 1)\n",
    "        if self.df.dtype == object:\n",
    "            self.is_obj = True\n",
    "            self.transformer = OrdinalEncoder()\n",
    "            self.data = self.transformer.fit_transform(series).astype(int)\n",
    "        elif self.df.dtype != int:\n",
    "            self.transformer = StandardScaler()\n",
    "            self.data = self.transformer.fit_transform(series)\n",
    "        else:\n",
    "            self.data = series"
   ]
  },
  {
   "cell_type": "markdown",
   "id": "1256f998",
   "metadata": {},
   "source": [
    "## 数据读取"
   ]
  },
  {
   "cell_type": "code",
   "execution_count": 21,
   "id": "8f9296bd",
   "metadata": {},
   "outputs": [],
   "source": [
    "train = pd.read_csv('../../data/train.csv')\n",
    "test = pd.read_csv('../../data/test.csv')\n",
    "\n",
    "train = build_data(train)\n",
    "test = build_data(test)"
   ]
  },
  {
   "cell_type": "code",
   "execution_count": 29,
   "id": "450898cd",
   "metadata": {},
   "outputs": [
    {
     "data": {
      "text/plain": [
       "((36188, 42), (5000, 40))"
      ]
     },
     "execution_count": 29,
     "metadata": {},
     "output_type": "execute_result"
    }
   ],
   "source": [
    "train.shape, test.shape"
   ]
  },
  {
   "cell_type": "code",
   "execution_count": 28,
   "id": "d417f888",
   "metadata": {},
   "outputs": [
    {
     "data": {
      "text/html": [
       "<div>\n",
       "<style scoped>\n",
       "    .dataframe tbody tr th:only-of-type {\n",
       "        vertical-align: middle;\n",
       "    }\n",
       "\n",
       "    .dataframe tbody tr th {\n",
       "        vertical-align: top;\n",
       "    }\n",
       "\n",
       "    .dataframe thead th {\n",
       "        text-align: right;\n",
       "    }\n",
       "</style>\n",
       "<table border=\"1\" class=\"dataframe\">\n",
       "  <thead>\n",
       "    <tr style=\"text-align: right;\">\n",
       "      <th></th>\n",
       "      <th>V_0</th>\n",
       "      <th>V_1</th>\n",
       "      <th>V_2</th>\n",
       "      <th>V_3</th>\n",
       "      <th>V_4</th>\n",
       "      <th>V_5</th>\n",
       "      <th>V_6</th>\n",
       "      <th>V_7</th>\n",
       "      <th>V_8</th>\n",
       "      <th>V_9</th>\n",
       "      <th>...</th>\n",
       "      <th>V_32</th>\n",
       "      <th>V_33</th>\n",
       "      <th>V_34</th>\n",
       "      <th>V_35</th>\n",
       "      <th>V_36</th>\n",
       "      <th>V_37</th>\n",
       "      <th>V_38</th>\n",
       "      <th>V_39</th>\n",
       "      <th>treatment</th>\n",
       "      <th>outcome</th>\n",
       "    </tr>\n",
       "  </thead>\n",
       "  <tbody>\n",
       "    <tr>\n",
       "      <th>0</th>\n",
       "      <td>1.778505</td>\n",
       "      <td>2.376919</td>\n",
       "      <td>0.0</td>\n",
       "      <td>-1.680176</td>\n",
       "      <td>-1.581142</td>\n",
       "      <td>0</td>\n",
       "      <td>-31.4</td>\n",
       "      <td>0.838</td>\n",
       "      <td>no</td>\n",
       "      <td>3</td>\n",
       "      <td>...</td>\n",
       "      <td>36.710780</td>\n",
       "      <td>5.438752</td>\n",
       "      <td>-1.269324</td>\n",
       "      <td>6.026618</td>\n",
       "      <td>53</td>\n",
       "      <td>-2</td>\n",
       "      <td>0</td>\n",
       "      <td>3</td>\n",
       "      <td>2</td>\n",
       "      <td>4.745129</td>\n",
       "    </tr>\n",
       "    <tr>\n",
       "      <th>1</th>\n",
       "      <td>-0.631728</td>\n",
       "      <td>5.337631</td>\n",
       "      <td>0.0</td>\n",
       "      <td>-0.869348</td>\n",
       "      <td>-2.767838</td>\n",
       "      <td>0</td>\n",
       "      <td>-42.0</td>\n",
       "      <td>4.120</td>\n",
       "      <td>no</td>\n",
       "      <td>999</td>\n",
       "      <td>...</td>\n",
       "      <td>32.913967</td>\n",
       "      <td>3.478513</td>\n",
       "      <td>3.309444</td>\n",
       "      <td>3.011011</td>\n",
       "      <td>50</td>\n",
       "      <td>0</td>\n",
       "      <td>2</td>\n",
       "      <td>4</td>\n",
       "      <td>0</td>\n",
       "      <td>7.310963</td>\n",
       "    </tr>\n",
       "    <tr>\n",
       "      <th>2</th>\n",
       "      <td>-0.862595</td>\n",
       "      <td>3.215953</td>\n",
       "      <td>1.0</td>\n",
       "      <td>-1.614799</td>\n",
       "      <td>-2.614270</td>\n",
       "      <td>1</td>\n",
       "      <td>-41.8</td>\n",
       "      <td>4.866</td>\n",
       "      <td>no</td>\n",
       "      <td>999</td>\n",
       "      <td>...</td>\n",
       "      <td>-201.735840</td>\n",
       "      <td>1.514067</td>\n",
       "      <td>-5.461385</td>\n",
       "      <td>4.281093</td>\n",
       "      <td>37</td>\n",
       "      <td>1</td>\n",
       "      <td>1</td>\n",
       "      <td>2</td>\n",
       "      <td>2</td>\n",
       "      <td>-52.156193</td>\n",
       "    </tr>\n",
       "    <tr>\n",
       "      <th>3</th>\n",
       "      <td>0.230854</td>\n",
       "      <td>2.250193</td>\n",
       "      <td>0.0</td>\n",
       "      <td>-1.631994</td>\n",
       "      <td>-5.705525</td>\n",
       "      <td>1</td>\n",
       "      <td>-36.1</td>\n",
       "      <td>4.966</td>\n",
       "      <td>no</td>\n",
       "      <td>999</td>\n",
       "      <td>...</td>\n",
       "      <td>-69.010270</td>\n",
       "      <td>3.073917</td>\n",
       "      <td>3.285422</td>\n",
       "      <td>3.228095</td>\n",
       "      <td>35</td>\n",
       "      <td>1</td>\n",
       "      <td>0</td>\n",
       "      <td>3</td>\n",
       "      <td>0</td>\n",
       "      <td>-17.011566</td>\n",
       "    </tr>\n",
       "    <tr>\n",
       "      <th>4</th>\n",
       "      <td>0.194774</td>\n",
       "      <td>4.896442</td>\n",
       "      <td>0.0</td>\n",
       "      <td>-0.143322</td>\n",
       "      <td>2.568728</td>\n",
       "      <td>1</td>\n",
       "      <td>-42.7</td>\n",
       "      <td>4.968</td>\n",
       "      <td>no</td>\n",
       "      <td>999</td>\n",
       "      <td>...</td>\n",
       "      <td>-46.994690</td>\n",
       "      <td>2.903061</td>\n",
       "      <td>-1.614107</td>\n",
       "      <td>4.383740</td>\n",
       "      <td>58</td>\n",
       "      <td>1</td>\n",
       "      <td>0</td>\n",
       "      <td>2</td>\n",
       "      <td>2</td>\n",
       "      <td>-15.229788</td>\n",
       "    </tr>\n",
       "  </tbody>\n",
       "</table>\n",
       "<p>5 rows × 42 columns</p>\n",
       "</div>"
      ],
      "text/plain": [
       "        V_0       V_1  V_2       V_3       V_4  V_5   V_6    V_7 V_8  V_9  \\\n",
       "0  1.778505  2.376919  0.0 -1.680176 -1.581142    0 -31.4  0.838  no    3   \n",
       "1 -0.631728  5.337631  0.0 -0.869348 -2.767838    0 -42.0  4.120  no  999   \n",
       "2 -0.862595  3.215953  1.0 -1.614799 -2.614270    1 -41.8  4.866  no  999   \n",
       "3  0.230854  2.250193  0.0 -1.631994 -5.705525    1 -36.1  4.966  no  999   \n",
       "4  0.194774  4.896442  0.0 -0.143322  2.568728    1 -42.7  4.968  no  999   \n",
       "\n",
       "   ...        V_32      V_33      V_34      V_35 V_36  V_37  V_38  V_39  \\\n",
       "0  ...   36.710780  5.438752 -1.269324  6.026618   53    -2     0     3   \n",
       "1  ...   32.913967  3.478513  3.309444  3.011011   50     0     2     4   \n",
       "2  ... -201.735840  1.514067 -5.461385  4.281093   37     1     1     2   \n",
       "3  ...  -69.010270  3.073917  3.285422  3.228095   35     1     0     3   \n",
       "4  ...  -46.994690  2.903061 -1.614107  4.383740   58     1     0     2   \n",
       "\n",
       "   treatment    outcome  \n",
       "0          2   4.745129  \n",
       "1          0   7.310963  \n",
       "2          2 -52.156193  \n",
       "3          0 -17.011566  \n",
       "4          2 -15.229788  \n",
       "\n",
       "[5 rows x 42 columns]"
      ]
     },
     "execution_count": 28,
     "metadata": {},
     "output_type": "execute_result"
    },
    {
     "data": {
      "text/html": [
       "<div>\n",
       "<style scoped>\n",
       "    .dataframe tbody tr th:only-of-type {\n",
       "        vertical-align: middle;\n",
       "    }\n",
       "\n",
       "    .dataframe tbody tr th {\n",
       "        vertical-align: top;\n",
       "    }\n",
       "\n",
       "    .dataframe thead th {\n",
       "        text-align: right;\n",
       "    }\n",
       "</style>\n",
       "<table border=\"1\" class=\"dataframe\">\n",
       "  <thead>\n",
       "    <tr style=\"text-align: right;\">\n",
       "      <th></th>\n",
       "      <th>V_0</th>\n",
       "      <th>V_1</th>\n",
       "      <th>V_2</th>\n",
       "      <th>V_3</th>\n",
       "      <th>V_4</th>\n",
       "      <th>V_5</th>\n",
       "      <th>V_6</th>\n",
       "      <th>V_7</th>\n",
       "      <th>V_8</th>\n",
       "      <th>V_9</th>\n",
       "      <th>...</th>\n",
       "      <th>V_30</th>\n",
       "      <th>V_31</th>\n",
       "      <th>V_32</th>\n",
       "      <th>V_33</th>\n",
       "      <th>V_34</th>\n",
       "      <th>V_35</th>\n",
       "      <th>V_36</th>\n",
       "      <th>V_37</th>\n",
       "      <th>V_38</th>\n",
       "      <th>V_39</th>\n",
       "    </tr>\n",
       "  </thead>\n",
       "  <tbody>\n",
       "    <tr>\n",
       "      <th>0</th>\n",
       "      <td>1.013263</td>\n",
       "      <td>7.153845</td>\n",
       "      <td>0.0</td>\n",
       "      <td>0.518550</td>\n",
       "      <td>2.912378</td>\n",
       "      <td>2</td>\n",
       "      <td>-46.2</td>\n",
       "      <td>1.281</td>\n",
       "      <td>no</td>\n",
       "      <td>999</td>\n",
       "      <td>...</td>\n",
       "      <td>-69.169106</td>\n",
       "      <td>6</td>\n",
       "      <td>89.354300</td>\n",
       "      <td>1.769277</td>\n",
       "      <td>-8.957970</td>\n",
       "      <td>4.821812</td>\n",
       "      <td>28</td>\n",
       "      <td>-1</td>\n",
       "      <td>1</td>\n",
       "      <td>4</td>\n",
       "    </tr>\n",
       "    <tr>\n",
       "      <th>1</th>\n",
       "      <td>1.256475</td>\n",
       "      <td>3.337584</td>\n",
       "      <td>1.0</td>\n",
       "      <td>0.719682</td>\n",
       "      <td>1.062356</td>\n",
       "      <td>1</td>\n",
       "      <td>-41.8</td>\n",
       "      <td>4.961</td>\n",
       "      <td>no</td>\n",
       "      <td>999</td>\n",
       "      <td>...</td>\n",
       "      <td>62.006910</td>\n",
       "      <td>4</td>\n",
       "      <td>-47.296772</td>\n",
       "      <td>4.304446</td>\n",
       "      <td>1.644096</td>\n",
       "      <td>3.086659</td>\n",
       "      <td>39</td>\n",
       "      <td>1</td>\n",
       "      <td>0</td>\n",
       "      <td>3</td>\n",
       "    </tr>\n",
       "    <tr>\n",
       "      <th>2</th>\n",
       "      <td>0.328848</td>\n",
       "      <td>3.779895</td>\n",
       "      <td>0.0</td>\n",
       "      <td>0.599383</td>\n",
       "      <td>0.858129</td>\n",
       "      <td>2</td>\n",
       "      <td>-36.1</td>\n",
       "      <td>4.964</td>\n",
       "      <td>no</td>\n",
       "      <td>999</td>\n",
       "      <td>...</td>\n",
       "      <td>102.485540</td>\n",
       "      <td>1</td>\n",
       "      <td>-103.987030</td>\n",
       "      <td>2.712243</td>\n",
       "      <td>0.901617</td>\n",
       "      <td>1.579955</td>\n",
       "      <td>33</td>\n",
       "      <td>1</td>\n",
       "      <td>0</td>\n",
       "      <td>4</td>\n",
       "    </tr>\n",
       "    <tr>\n",
       "      <th>3</th>\n",
       "      <td>-0.155332</td>\n",
       "      <td>2.034172</td>\n",
       "      <td>0.0</td>\n",
       "      <td>2.667294</td>\n",
       "      <td>2.557145</td>\n",
       "      <td>1</td>\n",
       "      <td>-36.1</td>\n",
       "      <td>4.963</td>\n",
       "      <td>no</td>\n",
       "      <td>999</td>\n",
       "      <td>...</td>\n",
       "      <td>87.844505</td>\n",
       "      <td>1</td>\n",
       "      <td>-85.620186</td>\n",
       "      <td>2.461733</td>\n",
       "      <td>1.008162</td>\n",
       "      <td>-1.084060</td>\n",
       "      <td>41</td>\n",
       "      <td>1</td>\n",
       "      <td>0</td>\n",
       "      <td>1</td>\n",
       "    </tr>\n",
       "    <tr>\n",
       "      <th>4</th>\n",
       "      <td>-1.144003</td>\n",
       "      <td>2.884787</td>\n",
       "      <td>0.0</td>\n",
       "      <td>-0.486087</td>\n",
       "      <td>4.241822</td>\n",
       "      <td>2</td>\n",
       "      <td>-36.1</td>\n",
       "      <td>4.965</td>\n",
       "      <td>no</td>\n",
       "      <td>999</td>\n",
       "      <td>...</td>\n",
       "      <td>198.070620</td>\n",
       "      <td>1</td>\n",
       "      <td>-203.561700</td>\n",
       "      <td>2.403087</td>\n",
       "      <td>-1.649364</td>\n",
       "      <td>3.734623</td>\n",
       "      <td>30</td>\n",
       "      <td>1</td>\n",
       "      <td>0</td>\n",
       "      <td>1</td>\n",
       "    </tr>\n",
       "  </tbody>\n",
       "</table>\n",
       "<p>5 rows × 40 columns</p>\n",
       "</div>"
      ],
      "text/plain": [
       "        V_0       V_1  V_2       V_3       V_4  V_5   V_6    V_7 V_8  V_9  \\\n",
       "0  1.013263  7.153845  0.0  0.518550  2.912378    2 -46.2  1.281  no  999   \n",
       "1  1.256475  3.337584  1.0  0.719682  1.062356    1 -41.8  4.961  no  999   \n",
       "2  0.328848  3.779895  0.0  0.599383  0.858129    2 -36.1  4.964  no  999   \n",
       "3 -0.155332  2.034172  0.0  2.667294  2.557145    1 -36.1  4.963  no  999   \n",
       "4 -1.144003  2.884787  0.0 -0.486087  4.241822    2 -36.1  4.965  no  999   \n",
       "\n",
       "   ...        V_30  V_31        V_32      V_33      V_34      V_35  V_36  \\\n",
       "0  ...  -69.169106     6   89.354300  1.769277 -8.957970  4.821812    28   \n",
       "1  ...   62.006910     4  -47.296772  4.304446  1.644096  3.086659    39   \n",
       "2  ...  102.485540     1 -103.987030  2.712243  0.901617  1.579955    33   \n",
       "3  ...   87.844505     1  -85.620186  2.461733  1.008162 -1.084060    41   \n",
       "4  ...  198.070620     1 -203.561700  2.403087 -1.649364  3.734623    30   \n",
       "\n",
       "   V_37  V_38  V_39  \n",
       "0    -1     1     4  \n",
       "1     1     0     3  \n",
       "2     1     0     4  \n",
       "3     1     0     1  \n",
       "4     1     0     1  \n",
       "\n",
       "[5 rows x 40 columns]"
      ]
     },
     "execution_count": 28,
     "metadata": {},
     "output_type": "execute_result"
    }
   ],
   "source": [
    "train.head()\n",
    "test.head()"
   ]
  },
  {
   "cell_type": "markdown",
   "id": "373abc71",
   "metadata": {},
   "source": [
    "## V-X模型"
   ]
  },
  {
   "cell_type": "markdown",
   "id": "46f006bb",
   "metadata": {},
   "source": [
    "### 数据划分"
   ]
  },
  {
   "cell_type": "code",
   "execution_count": 26,
   "id": "b0e0a524",
   "metadata": {},
   "outputs": [],
   "source": [
    "from sklearn.model_selection import train_test_split\n",
    "\n",
    "Y = train.treatment\n",
    "X = train.drop(['treatment', 'outcome'], axis=1)\n",
    "Xtrain, Xval, Ytrain, Yval = train_test_split(X, Y, test_size=0.3, random_state=42)"
   ]
  },
  {
   "cell_type": "code",
   "execution_count": 27,
   "id": "ffdb62b7",
   "metadata": {},
   "outputs": [
    {
     "data": {
      "text/plain": [
       "((25331, 40), (10857, 40), (25331,), (10857,))"
      ]
     },
     "execution_count": 27,
     "metadata": {},
     "output_type": "execute_result"
    }
   ],
   "source": [
    "Xtrain.shape, Xval.shape, Ytrain.shape, Yval.shape"
   ]
  },
  {
   "cell_type": "markdown",
   "id": "da95cd29",
   "metadata": {},
   "source": [
    "### 预处理"
   ]
  },
  {
   "cell_type": "code",
   "execution_count": 32,
   "id": "34ff6c70",
   "metadata": {},
   "outputs": [],
   "source": [
    "def preprocess(train, test):\n",
    "    data_dict = {}\n",
    "    cat_name = []\n",
    "    test_dict = {}\n",
    "    for name in train.columns:\n",
    "        t = TransData(name=name)\n",
    "        t(train)\n",
    "        data_dict[name] = t.data.reshape(-1, )\n",
    "        if t.is_obj:\n",
    "            cat_name.append(name)\n",
    "        if name not in ['treatment', 'outcome']:\n",
    "            try:\n",
    "                test_i = t.transformer.transform(test[name].values.reshape(-1, 1)).reshape(-1, )\n",
    "            except:\n",
    "                test_i = test[name]\n",
    "            test_dict[name] = test_i\n",
    "    return data_dict, test_dict, cat_name\n",
    "\n",
    "data_dict, val_dict, cat_name = preprocess(Xtrain, Xval)\n",
    "train_data = pd.DataFrame(data_dict)\n",
    "val_data = pd.DataFrame(val_dict)"
   ]
  },
  {
   "cell_type": "markdown",
   "id": "851522b5",
   "metadata": {},
   "source": [
    "### 模型搭建"
   ]
  },
  {
   "cell_type": "code",
   "execution_count": 34,
   "id": "4bfb65a6",
   "metadata": {},
   "outputs": [
    {
     "data": {
      "text/plain": [
       "RandomForestClassifier(criterion='entropy', max_depth=50, max_features=0.5,\n",
       "                       n_estimators=150)"
      ]
     },
     "execution_count": 34,
     "metadata": {},
     "output_type": "execute_result"
    },
    {
     "data": {
      "text/plain": [
       "1.0"
      ]
     },
     "execution_count": 34,
     "metadata": {},
     "output_type": "execute_result"
    },
    {
     "data": {
      "text/plain": [
       "0.9292622271345675"
      ]
     },
     "execution_count": 34,
     "metadata": {},
     "output_type": "execute_result"
    }
   ],
   "source": [
    "vx_model = RandomForestClassifier(n_estimators=150, criterion='entropy', max_features=0.5, max_depth=50)\n",
    "vx_model.fit(train_data, Ytrain)\n",
    "vx_model.score(train_data, Ytrain)\n",
    "vx_model.score(val_data, Yval)"
   ]
  },
  {
   "cell_type": "markdown",
   "id": "31ca00ea",
   "metadata": {},
   "source": [
    "## VXY模型"
   ]
  },
  {
   "cell_type": "markdown",
   "id": "5452c554",
   "metadata": {},
   "source": [
    "### 数据划分"
   ]
  },
  {
   "cell_type": "code",
   "execution_count": 35,
   "id": "7254a53a",
   "metadata": {},
   "outputs": [],
   "source": [
    "from sklearn.model_selection import train_test_split\n",
    "\n",
    "Y = train.outcome\n",
    "X = train.drop(['outcome'], axis=1)\n",
    "Xtrain, Xval, Ytrain, Yval = train_test_split(X, Y, test_size=0.3, random_state=42)"
   ]
  },
  {
   "cell_type": "code",
   "execution_count": 36,
   "id": "b9b9fffc",
   "metadata": {},
   "outputs": [
    {
     "data": {
      "text/plain": [
       "((25331, 41), (10857, 41), (25331,), (10857,))"
      ]
     },
     "execution_count": 36,
     "metadata": {},
     "output_type": "execute_result"
    }
   ],
   "source": [
    "Xtrain.shape, Xval.shape, Ytrain.shape, Yval.shape"
   ]
  },
  {
   "cell_type": "markdown",
   "id": "0bee74ca",
   "metadata": {},
   "source": [
    "### 预处理"
   ]
  },
  {
   "cell_type": "code",
   "execution_count": 41,
   "id": "8fb99ef3",
   "metadata": {},
   "outputs": [],
   "source": [
    "def preprocess(train, test):\n",
    "    data_dict = {}\n",
    "    cat_name = []\n",
    "    test_dict = {}\n",
    "    for name in train.columns:\n",
    "        t = TransData(name=name)\n",
    "        t(train)\n",
    "        data_dict[name] = t.data.reshape(-1, )\n",
    "        if t.is_obj:\n",
    "            cat_name.append(name)\n",
    "        if name not in ['outcome']:\n",
    "            try:\n",
    "                test_i = t.transformer.transform(test[name].values.reshape(-1, 1)).reshape(-1, )\n",
    "            except:\n",
    "                test_i = test[name]\n",
    "            test_dict[name] = test_i\n",
    "    return data_dict, test_dict, cat_name\n",
    "\n",
    "data_dict, val_dict, cat_name = preprocess(Xtrain, Xval)\n",
    "train_data = pd.DataFrame(data_dict)\n",
    "val_data = pd.DataFrame(val_dict)"
   ]
  },
  {
   "cell_type": "code",
   "execution_count": 42,
   "id": "d929e483",
   "metadata": {},
   "outputs": [
    {
     "data": {
      "text/plain": [
       "((25331, 41), (10857, 41))"
      ]
     },
     "execution_count": 42,
     "metadata": {},
     "output_type": "execute_result"
    }
   ],
   "source": [
    "train_data.shape, val_data.shape"
   ]
  },
  {
   "cell_type": "markdown",
   "id": "47edb421",
   "metadata": {},
   "source": [
    "### 模型搭建"
   ]
  },
  {
   "cell_type": "code",
   "execution_count": 43,
   "id": "45f3ae7b",
   "metadata": {},
   "outputs": [
    {
     "data": {
      "text/plain": [
       "RandomForestRegressor(max_depth=100, max_features=0.5, n_estimators=150)"
      ]
     },
     "execution_count": 43,
     "metadata": {},
     "output_type": "execute_result"
    },
    {
     "data": {
      "text/plain": [
       "0.9983675597716599"
      ]
     },
     "execution_count": 43,
     "metadata": {},
     "output_type": "execute_result"
    },
    {
     "data": {
      "text/plain": [
       "0.9889325703008396"
      ]
     },
     "execution_count": 43,
     "metadata": {},
     "output_type": "execute_result"
    }
   ],
   "source": [
    "vxy_model = RandomForestRegressor(n_estimators=150, max_features=0.5, max_depth=100)\n",
    "vxy_model.fit(train_data, Ytrain)\n",
    "vxy_model.score(train_data, Ytrain)\n",
    "vxy_model.score(val_data, Yval)"
   ]
  },
  {
   "cell_type": "markdown",
   "id": "ac7d5046",
   "metadata": {},
   "source": [
    "## 混淆因子"
   ]
  },
  {
   "cell_type": "code",
   "execution_count": null,
   "id": "8ea491bf",
   "metadata": {},
   "outputs": [],
   "source": []
  },
  {
   "cell_type": "code",
   "execution_count": 6,
   "id": "6d07f4d2",
   "metadata": {},
   "outputs": [],
   "source": [
    "\n",
    "x_importance = x_model.feature_importances_\n",
    "\n",
    "y_model_input = np.concatenate((V, x.reshape(-1, 1)), axis=1)\n",
    "y_model.fit(y_model_input, y=y)\n",
    "y_importance = y_model.feature_importances_"
   ]
  },
  {
   "cell_type": "code",
   "execution_count": null,
   "id": "bcfc75b9",
   "metadata": {},
   "outputs": [],
   "source": [
    "x_model.score(V,x)\n",
    "y_model.score(y_model_input,y)\n",
    "\n",
    "V = test_data.drop(['treatment', 'outcome'], axis=1).values\n",
    "x = test_data['treatment'].values\n",
    "y = test_data['outcome'].values\n",
    "x_model.score(V,x)\n",
    "y_model.score(y_model_input,y)"
   ]
  },
  {
   "cell_type": "code",
   "execution_count": 9,
   "id": "90d3dd84",
   "metadata": {
    "collapsed": true
   },
   "outputs": [
    {
     "data": {
      "text/plain": [
       "['V_0',\n",
       " 'V_1',\n",
       " 'V_2',\n",
       " 'V_3',\n",
       " 'V_4',\n",
       " 'V_5',\n",
       " 'V_6',\n",
       " 'V_7',\n",
       " 'V_10',\n",
       " 'V_11',\n",
       " 'V_12',\n",
       " 'V_13',\n",
       " 'V_14',\n",
       " 'V_15',\n",
       " 'V_17',\n",
       " 'V_18',\n",
       " 'V_19',\n",
       " 'V_21',\n",
       " 'V_22',\n",
       " 'V_23',\n",
       " 'V_24',\n",
       " 'V_25',\n",
       " 'V_28',\n",
       " 'V_29',\n",
       " 'V_30',\n",
       " 'V_31',\n",
       " 'V_32',\n",
       " 'V_33',\n",
       " 'V_34',\n",
       " 'V_35',\n",
       " 'V_36',\n",
       " 'V_37',\n",
       " 'V_38',\n",
       " 'V_39']"
      ]
     },
     "execution_count": 9,
     "metadata": {},
     "output_type": "execute_result"
    }
   ],
   "source": [
    "confounder_list = []\n",
    "for i, (x_, y_) in enumerate(zip(x_importance, y_importance)):\n",
    "    if x_ >= 1e-3 and y_ >= 1e-5:\n",
    "        confounder_list.append(all_cov[i])\n",
    "confounder_list"
   ]
  },
  {
   "cell_type": "code",
   "execution_count": null,
   "id": "4f0cb749",
   "metadata": {},
   "outputs": [],
   "source": []
  }
 ],
 "metadata": {
  "kernelspec": {
   "display_name": "Python 3 (ipykernel)",
   "language": "python",
   "name": "python3"
  },
  "language_info": {
   "codemirror_mode": {
    "name": "ipython",
    "version": 3
   },
   "file_extension": ".py",
   "mimetype": "text/x-python",
   "name": "python",
   "nbconvert_exporter": "python",
   "pygments_lexer": "ipython3",
   "version": "3.7.12"
  },
  "toc": {
   "base_numbering": 1,
   "nav_menu": {},
   "number_sections": true,
   "sideBar": true,
   "skip_h1_title": false,
   "title_cell": "Table of Contents",
   "title_sidebar": "Contents",
   "toc_cell": false,
   "toc_position": {},
   "toc_section_display": true,
   "toc_window_display": false
  }
 },
 "nbformat": 4,
 "nbformat_minor": 5
}
